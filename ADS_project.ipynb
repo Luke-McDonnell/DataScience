{
 "cells": [
  {
   "cell_type": "markdown",
   "metadata": {},
   "source": [
    "# ADS project "
   ]
  },
  {
   "cell_type": "markdown",
   "metadata": {},
   "source": [
    "## Introduction "
   ]
  },
  {
   "cell_type": "markdown",
   "metadata": {},
   "source": [
    "In this report, I will be analysing 2 different ways of calculating the similarity of documents (bags) of words. I will use some test text to create 20 documents of 100 words each. These 20 documents will be used to test 2 similarity measures, Jaccard similarity and Cosine similarity, for thier computation time as the documents increase in size (worst case running time). In addition, I will analyse the difference in running time between using a dictionary (sparse representation) and a vector (dense representation) to count word frequencies, and the differences in these when computing many pairs of documents at once."
   ]
  },
  {
   "cell_type": "code",
   "execution_count": 1,
   "metadata": {},
   "outputs": [],
   "source": [
    "import matplotlib.pyplot as plt\n",
    "import numpy as np\n",
    "import time\n",
    "import math\n",
    "import scipy.stats as stats\n",
    "\n",
    "# The modules I will need in this report "
   ]
  },
  {
   "cell_type": "markdown",
   "metadata": {},
   "source": [
    "I will start by creating 2000 words of text using an online random text generator (https://randomtextgenerator.com/), and then split this up into a list of 20 lists with 100 words each. "
   ]
  },
  {
   "cell_type": "code",
   "execution_count": 2,
   "metadata": {},
   "outputs": [
    {
     "name": "stdout",
     "output_type": "stream",
     "text": [
      "2000\n"
     ]
    }
   ],
   "source": [
    "myfile = 'test_text.txt'\n",
    "with open('test_text.txt', 'r') as file:\n",
    "    test_text = file.read().replace('.','').lower()\n",
    "\n",
    "# Split text into a list of words.    \n",
    "test_list = test_text.split()\n",
    "\n",
    "# Created a list of strings with 2000 words in.\n",
    "print(len(test_list))"
   ]
  },
  {
   "cell_type": "code",
   "execution_count": 3,
   "metadata": {},
   "outputs": [],
   "source": [
    "# Make a function to split the list of text into n lists\n",
    "def split_list(list_1, n):\n",
    "    for i in range(0, len(list_1), n):\n",
    "        yield list_1[i:i + n]\n",
    "\n",
    "# Now I have a list , containing 20 lists, each containing 100 words.\n",
    "list_of_docs = list(split_list(test_list, 100))"
   ]
  },
  {
   "cell_type": "markdown",
   "metadata": {},
   "source": [
    "Now I will convert these lists into dictionaries, where each dictionary will act as a frequency table where the keys of the dictionary are the words, and the values will be the frequency at which these words occur. I will create a function to do this."
   ]
  },
  {
   "cell_type": "code",
   "execution_count": 4,
   "metadata": {},
   "outputs": [
    {
     "name": "stdout",
     "output_type": "stream",
     "text": [
      "{'up': 1, 'am': 1, 'intention': 1, 'on': 1, 'dependent': 2, 'questions': 1, 'oh': 2, 'elsewhere': 1, 'september': 1, 'no': 2, 'betrayed': 1, 'pleasure': 2, 'possible': 1, 'jointure': 1, 'we': 2, 'in': 2, 'throwing': 1, 'and': 1, 'can': 1, 'event': 1, 'rapid': 1, 'any': 1, 'shall': 1, 'woman': 1, 'green': 1, 'hope': 1, 'they': 1, 'dear': 1, 'who': 2, 'its': 2, 'bred': 1, 'smiling': 1, 'nothing': 1, 'affixed': 1, 'he': 2, 'carried': 1, 'it': 2, 'clothes': 1, 'calling': 1, 'something': 1, 'disposing': 1, 'departure': 1, 'she': 3, 'favourite': 1, 'tolerably': 1, 'engrossed': 1, 'truth': 1, 'short': 1, 'folly': 1, 'court': 1, 'why': 1, 'their': 1, 'balls': 1, 'excellence': 1, 'put': 1, 'unaffected': 1, 'reasonable': 1, 'mrs': 1, 'introduced': 1, 'conviction': 1, 'nay': 2, 'particular': 1, 'delightful': 1, 'but': 1, 'unpleasant': 1, 'for': 1, 'uncommonly': 1, 'kept': 1, 'sent': 1, 'gave': 1, 'feel': 1, 'will': 1, 'has': 1, 'procured': 1, 'men': 1, 'laughing': 1, 'shutters': 1, 'old': 1, 'insipidity': 1, 'motionless': 1, 'continuing': 1, 'law': 1, 'shy': 1, 'partiality': 1, 'depending': 1, 'acuteness': 1, 'eat': 1}\n"
     ]
    }
   ],
   "source": [
    "# Make a function to create a dictionary of frequency of words in a list \n",
    "def frequency_dict(word_list):\n",
    "    dict_1={}\n",
    "    for word in word_list:\n",
    "        if word in dict_1:\n",
    "            dict_1[word]+=1\n",
    "        else:\n",
    "            dict_1[word]=1\n",
    "    return dict_1\n",
    "\n",
    "# Convert the lists into dictionaries\n",
    "list_of_dicts=[]\n",
    "for list_1 in list_of_docs:\n",
    "    list_of_dicts.append(frequency_dict(list_1))\n",
    "    \n",
    "print(list_of_dicts[0])"
   ]
  },
  {
   "cell_type": "markdown",
   "metadata": {},
   "source": [
    "In addition to needing a test sample to work  with, I will be needing a function to time other functions, I will create this function below. "
   ]
  },
  {
   "cell_type": "code",
   "execution_count": 5,
   "metadata": {},
   "outputs": [],
   "source": [
    "def timeit(somefunc,*args,repeats=1000,**kwargs):\n",
    "    times=[]\n",
    "    while repeats>0:\n",
    "        starttime=time.time()\n",
    "        ans=somefunc(*args,**kwargs)\n",
    "        endtime=time.time()\n",
    "        timetaken=endtime-starttime\n",
    "        times.append(timetaken)\n",
    "        repeats-=1\n",
    "    mean=np.mean(times)\n",
    "    stdev=np.std(times)\n",
    "    error=stdev/(len(times)**0.5)\n",
    "    return (ans, mean,error)"
   ]
  },
  {
   "cell_type": "markdown",
   "metadata": {},
   "source": [
    "The timeit function takes another function, times how long it takes to run, and then adds that time to a list. It will repeat this 1000 times (unless repeats is changed form 1000) and take the mean of those times to find an accurate representation of the real time taken."
   ]
  },
  {
   "cell_type": "markdown",
   "metadata": {},
   "source": [
    "##  (1) Jaccard similarity "
   ]
  },
  {
   "cell_type": "markdown",
   "metadata": {},
   "source": [
    "The Jaccard similarity measure is one of many ways of calculating the similarity of 2 bags of words. It is calculated as follows:\n",
    "\n",
    "$ J(A,B) = \\frac{|A \\cap B|}{|A \\cup B|} = \\frac{|A \\cap B|}{|A| + |B| + |A \\cap B|} $ \n",
    "\n",
    "Where $A$ and $B$ are both documents, $|A|$ and $|B|$ are the total amount of words in A and B respectively, and $|A \\cap B|$ is the intersection, which is the amount of words that occour in both in A and B.\n",
    "\n",
    "Now I will create a function to calculate the Jaccard similarity of 2 bags of words. To do this I also require a sperate function to calculate the total amount of words in a document (dictionary). "
   ]
  },
  {
   "cell_type": "code",
   "execution_count": 6,
   "metadata": {},
   "outputs": [
    {
     "name": "stdout",
     "output_type": "stream",
     "text": [
      "The Jaccard similarity of the first pair of documents is: 0.10497237569060773\n"
     ]
    }
   ],
   "source": [
    "#My function to caluclate the total words in a dictionary.\n",
    "def total_dict(dict_1):\n",
    "    a=0\n",
    "    for b in dict_1:\n",
    "        a += dict_1[b]\n",
    "    return a\n",
    "\n",
    "def jaccard(dict_1,dict_2):\n",
    "    intersection={}\n",
    "    for a in dict_1.keys():\n",
    "        if a in dict_2.keys():\n",
    "            intersection[a]=min(dict_1[a],dict_2[a])\n",
    "           \n",
    "    intersectiontot=total_dict(intersection)\n",
    "    union = total_dict(dict_1) + total_dict(dict_2)-intersectiontot\n",
    "    return intersectiontot/union\n",
    "\n",
    "jaccard_1st_pair = jaccard(list_of_dicts[0],list_of_dicts[1])\n",
    "\n",
    "print('The Jaccard similarity of the first pair of documents is:', jaccard_1st_pair)"
   ]
  },
  {
   "cell_type": "markdown",
   "metadata": {},
   "source": [
    "Now I want to test this function to find the worst case running time. To do this I will create a new function to create dictionaries of different word counts n, then I will create 10 pairs of dictionaries using this function, and append these pairs to a list. The first pair will be 2 dictionaries both with 100 words in each (frequencies will add up to 100), then the next pair will have 200 words each, then 300, and so on until the last pair will be 2 dictionaries of 1000 words in each dictionary. "
   ]
  },
  {
   "cell_type": "code",
   "execution_count": 140,
   "metadata": {},
   "outputs": [
    {
     "name": "stdout",
     "output_type": "stream",
     "text": [
      "First pair of test samples (2 dictionaries with 100 words in each): \n",
      "\n",
      " {'up': 1, 'am': 1, 'intention': 1, 'on': 1, 'dependent': 2, 'questions': 1, 'oh': 2, 'elsewhere': 1, 'september': 1, 'no': 2, 'betrayed': 1, 'pleasure': 2, 'possible': 1, 'jointure': 1, 'we': 2, 'in': 2, 'throwing': 1, 'and': 1, 'can': 1, 'event': 1, 'rapid': 1, 'any': 1, 'shall': 1, 'woman': 1, 'green': 1, 'hope': 1, 'they': 1, 'dear': 1, 'who': 2, 'its': 2, 'bred': 1, 'smiling': 1, 'nothing': 1, 'affixed': 1, 'he': 2, 'carried': 1, 'it': 2, 'clothes': 1, 'calling': 1, 'something': 1, 'disposing': 1, 'departure': 1, 'she': 3, 'favourite': 1, 'tolerably': 1, 'engrossed': 1, 'truth': 1, 'short': 1, 'folly': 1, 'court': 1, 'why': 1, 'their': 1, 'balls': 1, 'excellence': 1, 'put': 1, 'unaffected': 1, 'reasonable': 1, 'mrs': 1, 'introduced': 1, 'conviction': 1, 'nay': 2, 'particular': 1, 'delightful': 1, 'but': 1, 'unpleasant': 1, 'for': 1, 'uncommonly': 1, 'kept': 1, 'sent': 1, 'gave': 1, 'feel': 1, 'will': 1, 'has': 1, 'procured': 1, 'men': 1, 'laughing': 1, 'shutters': 1, 'old': 1, 'insipidity': 1, 'motionless': 1, 'continuing': 1, 'law': 1, 'shy': 1, 'partiality': 1, 'depending': 1, 'acuteness': 1, 'eat': 1} \n",
      "\n",
      " {'use': 1, 'dejection': 1, 'unpleasing': 1, 'astonished': 1, 'discovered': 1, 'not': 1, 'nor': 1, 'shy': 1, 'morning': 1, 'hearted': 1, 'now': 2, 'met': 1, 'yet': 1, 'beloved': 1, 'evening': 1, 'has': 1, 'and': 2, 'upon': 1, 'his': 2, 'last': 1, 'here': 1, 'must': 1, 'old': 1, 'unsatiable': 1, 'our': 1, 'but': 3, 'considered': 1, 'travelling': 1, 'impression': 1, 'in': 2, 'excuse': 1, 'hardly': 1, 'summer': 1, 'basket': 1, 'misery': 1, 'by': 1, 'rent': 1, 'an': 2, 'part': 1, 'need': 1, 'at': 1, 'wrong': 1, 'of': 3, 'water': 1, 'those': 1, 'linen': 1, 'needed': 1, 'oppose': 1, 'seemed': 1, 'how': 1, 'all': 1, 'very': 1, 'mrs': 1, 'shed': 1, 'shew': 1, 'gave': 1, 'you': 1, 'oh': 1, 'shutters': 1, 'do': 1, 'removing': 1, 'reserved': 1, 'wandered': 1, 'described': 1, 'questions': 1, 'for': 1, 'recommend': 1, 'advantage': 1, 'belonging': 1, 'estimable': 1, 'had': 1, 'pianoforte': 1, 'reasonable': 1, 'as': 1, 'so': 1, 'am': 1, 'inhabiting': 1, 'chatty': 1, 'design': 1, 'remark': 1, 'abroad': 1, 'figure': 1, 'its': 1, 'from': 1, 'they': 1, 'fine': 1, 'john': 1, 'he': 2, 'give': 1, 'rich': 1} \n",
      "\n",
      " Second pair of test samples (2 dictionaries with 200 words in each):\n",
      "\n",
      " {'up': 1, 'am': 2, 'intention': 1, 'on': 1, 'dependent': 2, 'questions': 2, 'oh': 3, 'elsewhere': 1, 'september': 1, 'no': 2, 'betrayed': 1, 'pleasure': 2, 'possible': 1, 'jointure': 1, 'we': 2, 'in': 4, 'throwing': 1, 'and': 3, 'can': 1, 'event': 1, 'rapid': 1, 'any': 1, 'shall': 1, 'woman': 1, 'green': 1, 'hope': 1, 'they': 2, 'dear': 1, 'who': 2, 'its': 3, 'bred': 1, 'smiling': 1, 'nothing': 1, 'affixed': 1, 'he': 4, 'carried': 1, 'it': 2, 'clothes': 1, 'calling': 1, 'something': 1, 'disposing': 1, 'departure': 1, 'she': 3, 'favourite': 1, 'tolerably': 1, 'engrossed': 1, 'truth': 1, 'short': 1, 'folly': 1, 'court': 1, 'why': 1, 'their': 1, 'balls': 1, 'excellence': 1, 'put': 1, 'unaffected': 1, 'reasonable': 2, 'mrs': 2, 'introduced': 1, 'conviction': 1, 'nay': 2, 'particular': 1, 'delightful': 1, 'but': 4, 'unpleasant': 1, 'for': 2, 'uncommonly': 1, 'kept': 1, 'sent': 1, 'gave': 2, 'feel': 1, 'will': 1, 'has': 2, 'procured': 1, 'men': 1, 'laughing': 1, 'shutters': 2, 'old': 2, 'insipidity': 1, 'motionless': 1, 'continuing': 1, 'law': 1, 'shy': 2, 'partiality': 1, 'depending': 1, 'acuteness': 1, 'eat': 1, 'use': 1, 'dejection': 1, 'unpleasing': 1, 'astonished': 1, 'discovered': 1, 'not': 1, 'nor': 1, 'morning': 1, 'hearted': 1, 'now': 2, 'met': 1, 'yet': 1, 'beloved': 1, 'evening': 1, 'upon': 1, 'his': 2, 'last': 1, 'here': 1, 'must': 1, 'unsatiable': 1, 'our': 1, 'considered': 1, 'travelling': 1, 'impression': 1, 'excuse': 1, 'hardly': 1, 'summer': 1, 'basket': 1, 'misery': 1, 'by': 1, 'rent': 1, 'an': 2, 'part': 1, 'need': 1, 'at': 1, 'wrong': 1, 'of': 3, 'water': 1, 'those': 1, 'linen': 1, 'needed': 1, 'oppose': 1, 'seemed': 1, 'how': 1, 'all': 1, 'very': 1, 'shed': 1, 'shew': 1, 'you': 1, 'do': 1, 'removing': 1, 'reserved': 1, 'wandered': 1, 'described': 1, 'recommend': 1, 'advantage': 1, 'belonging': 1, 'estimable': 1, 'had': 1, 'pianoforte': 1, 'as': 1, 'so': 1, 'inhabiting': 1, 'chatty': 1, 'design': 1, 'remark': 1, 'abroad': 1, 'figure': 1, 'from': 1, 'fine': 1, 'john': 1, 'give': 1, 'rich': 1} \n",
      "\n",
      " {'they': 1, 'age': 1, 'and': 3, 'draw': 1, 'mrs': 2, 'like': 1, 'improving': 1, 'end': 1, 'distrusts': 1, 'may': 1, 'instantly': 1, 'was': 1, 'household': 1, 'applauded': 1, 'incommode': 1, 'why': 1, 'kept': 1, 'very': 1, 'ever': 1, 'home': 1, 'considered': 2, 'sympathize': 1, 'ten': 1, 'uncommonly': 1, 'occasional': 1, 'assistance': 1, 'sufficient': 2, 'not': 1, 'letter': 1, 'of': 2, 'on': 3, 'become': 1, 'he': 4, 'tended': 1, 'active': 2, 'enable': 1, 'to': 3, 'vicinity': 1, 'relation': 1, 'sensible': 1, 'sociable': 1, 'surprise': 1, 'screened': 1, 'no': 2, 'up': 1, 'as': 3, 'sex': 1, 'neglected': 2, 'principle': 1, 'ask': 1, 'rapturous': 1, 'consulted': 1, 'object': 2, 'remark': 1, 'lively': 1, 'all': 1, 'did': 1, 'feebly': 1, 'excuse': 1, 'our': 1, 'wooded': 1, 'old': 2, 'her': 3, 'chatty': 1, 'regard': 2, 'vulgar': 1, 'missed': 1, 'speaking': 1, 'throwing': 1, 'breeding': 1, 'betrayed': 1, 'children': 1, 'my': 1, 'me': 1, 'marianne': 1, 'horrible': 1, 'produced': 1, 'ye': 3, 'unpleasing': 1, 'an': 3, 'insensible': 2, 'motionless': 1, 'if': 1, 'introduced': 1, 'now': 1, 'give': 1, 'nor': 1, 'both': 1, 'come': 1, 'near': 1, 'many': 1, 'late': 1, 'forfeited': 1, 'you': 3, 'engrossed': 1, 'but': 1, 'gay': 1, 'sometimes': 2, 'explained': 1, 'another': 1, 'studied': 1, 'it': 1, 'evident': 1, 'merry': 1, 'sense': 1, 'given': 1, 'be': 2, 'arise': 1, 'conduct': 1, 'at': 1, 'replied': 1, 'removal': 1, 'amongst': 1, 'remaining': 1, 'determine': 1, 'few': 2, 'two': 1, 'cordially': 1, 'admitting': 1, 'strangers': 1, 'his': 1, 'ourselves': 1, 'depending': 1, 'boy': 1, 'eat': 2, 'discretion': 1, 'cultivated': 1, 'possession': 1, 'far': 1, 'comparison': 1, 'projection': 1, 'fat': 1, 'interested': 1, 'discovered': 1, 'inquietude': 1, 'unsatiable': 1, 'increasing': 1, 'believing': 2, 'so': 2, 'allowance': 1, 'existence': 1, 'departure': 1, 'in': 3, 'design': 1, 'temper': 1, 'uneasy': 1, 'thirty': 1, 'for': 1, 'remove': 1, 'plenty': 1, 'summer': 1, 'though': 1, 'preference': 1, 'connection': 1, 'astonished': 1, 'partiality': 1, 'or': 1, 'continuing': 1, 'particular': 1, 'principles': 1, 'do': 1, 'oh': 1}\n"
     ]
    }
   ],
   "source": [
    "# Make larger dictionaries to test the worst case, make a function to split list into n dictionaries\n",
    "def make_dict_n(list_1,n):\n",
    "    list_of_docs = list(split_list(list_1, n))\n",
    "    list_of_dicts=[]\n",
    "    for list_2 in list_of_docs:\n",
    "        list_of_dicts.append(frequency_dict(list_2))\n",
    "    return list_of_dicts\n",
    "\n",
    "test_samples = []\n",
    "for n in range(100,1100,100):\n",
    "    list_of_dicts_new = make_dict_n(test_list,n)\n",
    "    test_samples.append([list_of_dicts_new[0],list_of_dicts_new[1]])\n",
    "\n",
    "# Now my test_samples is a list of 10 lists, each containing 2 different dictionaries of the same word count, \n",
    "\n",
    "print('First pair of test samples (2 dictionaries with 100 words in each): \\n\\n', test_samples[0][0], '\\n\\n', test_samples[0][1],'\\n\\n', \n",
    "      'Second pair of test samples (2 dictionaries with 200 words in each):\\n\\n', test_samples[1][0],'\\n\\n', test_samples[1][1])"
   ]
  },
  {
   "cell_type": "markdown",
   "metadata": {},
   "source": [
    "Now I have my test samples of increasing size, I can now find the average time taken to compute each pair of dictionaries, and then plot the relationship. My x values will be the word count in the dictionaries, and my y values will be the time taken to compute."
   ]
  },
  {
   "cell_type": "code",
   "execution_count": 141,
   "metadata": {},
   "outputs": [
    {
     "name": "stdout",
     "output_type": "stream",
     "text": [
      "[100, 200, 300, 400, 500, 600, 700, 800, 900, 1000]\n",
      "[2.698230743408203e-05, 5.796027183532715e-05, 7.194924354553222e-05, 9.892797470092774e-05, 0.00012391281127929686, 0.00014200806617736816, 0.00016188669204711913, 0.00018586850166320802, 0.00021084928512573242, 0.00023283791542053222]\n"
     ]
    }
   ],
   "source": [
    "x_values = []\n",
    "for n in range(100,1100,100):\n",
    "    x_values.append(n)\n",
    "\n",
    "y_values_j = []\n",
    "for i in range(0,10):\n",
    "    first_doc = test_samples[i][0]\n",
    "    second_doc = test_samples[i][1]\n",
    "    (ans, mean,error) = timeit(jaccard, first_doc, second_doc)\n",
    "    y_values_j.append(mean)\n",
    "    \n",
    "print(x_values)    \n",
    "print(y_values_j)"
   ]
  },
  {
   "cell_type": "markdown",
   "metadata": {},
   "source": [
    "Now I have my values, I can plot these against each other on a scatter graph to view the relationship to calculate a time complexity."
   ]
  },
  {
   "cell_type": "code",
   "execution_count": 142,
   "metadata": {},
   "outputs": [
    {
     "data": {
      "image/png": "[encoded data removed]",
      "text/plain": [
       "<Figure size 432x288 with 1 Axes>"
      ]
     },
     "metadata": {
      "needs_background": "light"
     },
     "output_type": "display_data"
    }
   ],
   "source": [
    "%matplotlib inline\n",
    "z = np.polyfit(x_values,y_values_j, 1)\n",
    "p = np.poly1d(z)\n",
    "plt.plot(x_values, p(x_values), c='b')\n",
    "plt.scatter(x_values,y_values_j, c='b', marker=\"s\",)\n",
    "plt.ylim(0,max(y_values_j)+0.00005)\n",
    "plt.xlim(0,1100)\n",
    "plt.xlabel(\"Word count in dictionary\")\n",
    "plt.ylabel(\"Average time to calculate\")\n",
    "plt.title(\"Worst Case Running Time of Jaccard Similarity\")\n",
    "plt.show()"
   ]
  },
  {
   "cell_type": "markdown",
   "metadata": {},
   "source": [
    "#### How to calculate time complexity \n",
    "\n",
    "If $y=c_a.x^n$ then it follows that: $$\\log(y) = \\log(c_a) + n \\log(x)$$\n",
    "The values for $n$ and $c_a$ can be found if we plot a graph of $\\log(y)$ against $\\log(x)$, the gradient (slope) will be $n$ and the $y$-intercept will be $\\log(c_a)$\n",
    "\n",
    "As our graph for the jaccard time complexity looks like it  is linear (straight line), we should expect our value for $n$ to be close to 1, thus making our Big-O notation O(n) (approximately $y=c_a.x$) for the jaccard similarity.\n",
    "\n",
    "Below I will take the log of my x and y values and plot them against each other."
   ]
  },
  {
   "cell_type": "code",
   "execution_count": 10,
   "metadata": {},
   "outputs": [
    {
     "data": {
      "image/png": "[encoded data removed]",
      "text/plain": [
       "<Figure size 432x288 with 1 Axes>"
      ]
     },
     "metadata": {
      "needs_background": "light"
     },
     "output_type": "display_data"
    }
   ],
   "source": [
    "log_x_values=[np.log10(x) for x in x_values]\n",
    "log_y_values_j=[np.log10(y) for y in y_values_j]\n",
    "\n",
    "plt.scatter(log_x_values,log_y_values_j, c='b', marker=\"s\",)\n",
    "plt.xlabel(\"Log of Word Count of Dictionary\")\n",
    "plt.ylabel(\"Log of Average time to Calculate\")\n",
    "plt.title(\"Worst Case Running Time of Jaccard Similarity (Log)\")\n",
    "plt.show()"
   ]
  },
  {
   "cell_type": "markdown",
   "metadata": {},
   "source": [
    "Now I have my log values, I can calculate the gradient (slope) and y-intercept to find my $c_a$ and $n$. "
   ]
  },
  {
   "cell_type": "code",
   "execution_count": 143,
   "metadata": {},
   "outputs": [
    {
     "name": "stdout",
     "output_type": "stream",
     "text": [
      "Slope n =  0.9690794786088619\n",
      "Intercept =  -6.513881237782978\n",
      "Constant: c =  3.0628008730475924e-07\n"
     ]
    }
   ],
   "source": [
    "# finding the slope, intercept, and constant for the jaccard worst case\n",
    "\n",
    "slope, intercept = np.polyfit(log_x_values,log_y_values_j,1) \n",
    "print('Slope n = ', slope )\n",
    "print('Intercept = ', intercept)\n",
    "constant = 10**intercept \n",
    "print('Constant: c = ', constant)"
   ]
  },
  {
   "cell_type": "markdown",
   "metadata": {},
   "source": [
    "Above we have our values for $c_a$ and $n$. (on my computer it was $c_a = 3.529x10^{-0.7}$ and $n = 0.942$ but the constant will vary depending on the computer used to run this document)."
   ]
  },
  {
   "cell_type": "markdown",
   "metadata": {},
   "source": [
    "## (2) Cosine Similarity (Dense Representation)"
   ]
  },
  {
   "cell_type": "markdown",
   "metadata": {},
   "source": [
    "Now I will repeat this process of calculating worst case running time for a new similarity measure, the Cosine measure. However, this time I will not be using a dictionary (sparse representation) to represent the bags of words, instead I will use a vector (dense representation) for each document, which will become a matrix for all 20 documents.\n",
    "\n",
    "I will create a function to convert my dictionaries into vectors below."
   ]
  },
  {
   "cell_type": "code",
   "execution_count": 145,
   "metadata": {},
   "outputs": [
    {
     "name": "stdout",
     "output_type": "stream",
     "text": [
      "The first function produces vectors like this: \n",
      " [1, 0, 1, 0, 2, 0, 0, 1, 2, 0, 0, 0, 0, 0, 0, 1, 0, 2, 0, 0] \n",
      "\n",
      "The second function produces vectors like this:\n",
      " [1, 1, 1, 1, 2, 1, 2, 1, 1, 2, 1, 2, 1, 1, 2, 2, 1, 1, 1, 1, 1, 1, 1, 1, 1, 1, 1, 1, 2, 2, 1, 1, 1, 1, 2, 1, 2, 1, 1, 1, 1, 1, 3, 1, 1, 1, 1, 1, 1, 1, 1, 1, 1, 1, 1, 1, 1, 1, 1, 1, 2, 1, 1, 1, 1, 1, 1, 1, 1, 1, 1, 1, 1, 1, 1, 1, 1, 1, 1, 1, 1, 1, 1, 1, 1, 1, 1, 0, 0, 0, 0, 0, 0, 0, 0, 0, 0, 0, 0, 0, 0, 0, 0, 0, 0, 0, 0, 0, 0, 0, 0, 0, 0, 0, 0, 0, 0, 0, 0, 0, 0, 0, 0, 0, 0, 0, 0, 0, 0, 0, 0, 0, 0, 0, 0, 0, 0, 0, 0, 0, 0, 0, 0, 0, 0, 0, 0, 0, 0, 0, 0, 0, 0, 0, 0, 0, 0, 0, 0, 0, 0, 0, 0, 0, 0, 0, 0, 0, 0, 0, 0, 0, 0, 0, 0, 0, 0, 0, 0, 0, 0, 0, 0, 0, 0, 0, 0, 0, 0, 0, 0, 0, 0, 0, 0, 0, 0, 0, 0, 0, 0, 0, 0, 0, 0, 0, 0, 0, 0, 0, 0, 0, 0, 0, 0, 0, 0, 0, 0, 0, 0, 0, 0, 0, 0, 0, 0, 0, 0, 0, 0, 0, 0, 0, 0, 0, 0, 0, 0, 0, 0, 0, 0, 0, 0, 0, 0, 0, 0, 0, 0, 0, 0, 0, 0, 0, 0, 0, 0, 0, 0, 0, 0, 0, 0, 0, 0, 0, 0, 0, 0, 0, 0, 0, 0, 0, 0, 0, 0, 0, 0, 0, 0, 0, 0, 0, 0, 0, 0, 0, 0, 0, 0, 0, 0, 0, 0, 0, 0, 0, 0, 0, 0, 0, 0, 0, 0, 0, 0, 0, 0, 0, 0, 0, 0, 0, 0, 0, 0, 0, 0, 0, 0, 0, 0, 0, 0, 0, 0, 0, 0, 0, 0, 0, 0, 0, 0, 0, 0, 0, 0, 0, 0, 0, 0, 0, 0, 0, 0, 0, 0, 0, 0, 0, 0, 0, 0, 0, 0, 0, 0, 0, 0, 0, 0, 0, 0, 0, 0, 0, 0, 0, 0, 0, 0, 0, 0, 0, 0, 0, 0, 0, 0, 0, 0, 0, 0, 0, 0, 0, 0, 0, 0, 0, 0, 0, 0, 0, 0, 0, 0, 0, 0, 0, 0, 0, 0, 0, 0, 0, 0, 0, 0, 0, 0, 0, 0, 0, 0, 0, 0, 0, 0, 0, 0, 0, 0, 0, 0, 0, 0, 0, 0, 0, 0, 0, 0, 0, 0, 0, 0, 0, 0, 0, 0, 0, 0, 0, 0, 0, 0, 0, 0, 0, 0, 0, 0, 0, 0, 0, 0, 0, 0, 0, 0, 0, 0, 0, 0, 0, 0, 0, 0, 0, 0, 0, 0, 0, 0, 0, 0, 0, 0, 0, 0, 0, 0, 0, 0, 0, 0, 0, 0, 0, 0, 0, 0, 0, 0, 0, 0, 0, 0, 0, 0, 0, 0, 0, 0, 0, 0, 0, 0, 0, 0, 0, 0, 0, 0, 0, 0, 0, 0, 0, 0, 0, 0, 0, 0, 0, 0, 0, 0, 0, 0, 0, 0, 0, 0, 0, 0, 0, 0, 0, 0, 0, 0, 0, 0, 0, 0, 0, 0, 0, 0, 0, 0, 0, 0, 0, 0, 0, 0, 0, 0, 0, 0, 0, 0, 0, 0, 0, 0, 0, 0, 0, 0, 0, 0, 0, 0, 0, 0, 0, 0, 0, 0, 0, 0, 0, 0, 0, 0, 0, 0, 0, 0, 0, 0, 0, 0, 0, 0, 0, 0, 0, 0, 0, 0, 0, 0, 0, 0, 0, 0, 0, 0, 0, 0, 0, 0, 0, 0, 0, 0, 0, 0, 0, 0, 0, 0, 0, 0, 0, 0, 0, 0, 0, 0, 0, 0, 0, 0, 0, 0, 0, 0, 0, 0, 0, 0, 0, 0, 0, 0, 0, 0, 0, 0, 0, 0, 0, 0, 0, 0, 0, 0, 0, 0, 0, 0, 0, 0, 0, 0, 0, 0, 0, 0, 0, 0, 0, 0, 0, 0, 0, 0, 0, 0, 0, 0, 0, 0, 0, 0, 0, 0, 0, 0, 0, 0, 0, 0, 0, 0, 0, 0, 0, 0, 0, 0, 0, 0, 0, 0, 0, 0, 0, 0, 0, 0, 0, 0, 0, 0, 0, 0, 0, 0, 0, 0, 0, 0, 0, 0, 0, 0, 0, 0, 0, 0, 0, 0, 0, 0, 0, 0, 0, 0, 0, 0, 0, 0, 0, 0, 0, 0, 0, 0, 0, 0, 0, 0, 0, 0, 0, 0, 0, 0, 0, 0, 0, 0, 0, 0, 0, 0, 0, 0, 0, 0, 0, 0, 0, 0, 0, 0, 0, 0, 0, 0, 0, 0, 0, 0, 0, 0, 0, 0, 0, 0, 0, 0, 0, 0, 0, 0, 0, 0, 0, 0, 0]\n"
     ]
    }
   ],
   "source": [
    "def dense_rep(list_of_dicts):\n",
    "    allfeatures={}    \n",
    "    for docdict in list_of_dicts:\n",
    "        for feat in docdict.keys():\n",
    "            allfeatures[feat]=1\n",
    "    \n",
    "    dimensions=list(allfeatures.keys())\n",
    "    sorted(dimensions)\n",
    "    \n",
    "    matrix=[]\n",
    "    for dimension in dimensions:\n",
    "        row=[]\n",
    "        for docdict in list_of_dicts:\n",
    "            row.append(docdict.get(dimension,0))\n",
    "        matrix.append(row)\n",
    "        \n",
    "    return matrix\n",
    "\n",
    "def transpose(matrix):\n",
    "    transposed=[]\n",
    "    for i in range(0,len(matrix[0])):\n",
    "        transposed.append([row[i] for row in matrix])   \n",
    "    return transposed\n",
    "\n",
    "word_matrix = dense_rep(list_of_dicts)\n",
    "doc_vectors=transpose(word_matrix)\n",
    "print('The first function produces vectors like this: \\n', word_matrix[0], '\\n') \n",
    "print('The second function produces vectors like this:\\n',doc_vectors[0])\n",
    "\n",
    "# Using these 2 functoins (in this order) will convert my bags from dictionary form (sparse representation) \n",
    "# to vector form (dense representation), which we will then Use to calculate the cosine similarity"
   ]
  },
  {
   "cell_type": "markdown",
   "metadata": {},
   "source": [
    "Above I have made the 2 functions needed to convert sparse representation into dense representation. The first function creates a vector for every word in the whole 2000 words, with the rows of these vectors being the frequency at which that specific word occurs in every document (the first vector printed above). The second will convert these vectors representing words into vectors representing individual documents, with the rows being the frequency at which each word occurs in that document. Now I have the documents represented correctly, I can now make a function to calculate the Cosine similarity. "
   ]
  },
  {
   "cell_type": "markdown",
   "metadata": {},
   "source": [
    "#### How cosine similarity is calculated."
   ]
  },
  {
   "cell_type": "markdown",
   "metadata": {},
   "source": [
    "The Cosine similarity of 2 vectors is calculated as follows:\n",
    "\n",
    "${\\displaystyle \\cos(A,B)={\\mathbf {A} \\cdot \\mathbf {B}  \\over \\|\\mathbf {A} \\|\\|\\mathbf {B} \\|}={\\frac {\\sum \\limits _{i=1}^{n}{A_{i}B_{i}}}{{\\sqrt {\\sum \\limits _{i=1}^{n}{A_{i}^{2}}}}{\\sqrt {\\sum \\limits _{i=1}^{n}{B_{i}^{2}}}}}},}$\n",
    "\n",
    "Where $A$ and $B$ are 2 documents, $||A||$ and $||B||$ are the norms of $A$ and $B$, and $\\mathbf {A} \\cdot \\mathbf {B}$ is the dot product of $A$ and $B$.\n",
    "\n",
    "I will require 2 functions to calculate Cosine similarity, one to calculate the dot product of 2 vectors, and one to calculate cosine similarity using that dot product function. "
   ]
  },
  {
   "cell_type": "code",
   "execution_count": 146,
   "metadata": {},
   "outputs": [
    {
     "name": "stdout",
     "output_type": "stream",
     "text": [
      "The cosine similarity of the first 2 documents is 0.22225022225033336\n"
     ]
    }
   ],
   "source": [
    "def dot_product(vector_1,vector_2):\n",
    "    dot=0\n",
    "    for i in range(0,len(vector_1)):\n",
    "        dot+=vector_1[i]*vector_2[i]\n",
    "    return dot\n",
    "\n",
    "def cosine(vector_1,vector_2):\n",
    "    return dot_product(vector_1,vector_2)/math.sqrt(dot_product(vector_1,vector_1)*dot_product(vector_2,vector_2))\n",
    "\n",
    "\n",
    "cosine_1st_pair = cosine(doc_vectors[0],doc_vectors[1])\n",
    "print('The cosine similarity of the first 2 documents is', cosine_1st_pair)"
   ]
  },
  {
   "cell_type": "markdown",
   "metadata": {},
   "source": [
    "Now that I have my documents in dense representation and I have a function to calculate the similarity, I can find the worst case running time and the corresponding time complexity function. I will use the same test samples I used when testing the Jaccard similarity worst case, but converted into vector form first. "
   ]
  },
  {
   "cell_type": "code",
   "execution_count": 14,
   "metadata": {},
   "outputs": [
    {
     "name": "stdout",
     "output_type": "stream",
     "text": [
      "[5.19564151763916e-05, 9.893035888671875e-05, 0.00015988826751708984, 0.00017787599563598634, 0.00021784424781799317, 0.0002488250732421875, 0.0002738063335418701, 0.0002937924861907959, 0.0003087825775146484, 0.00033176612854003907]\n"
     ]
    }
   ],
   "source": [
    "y_values_cd = []\n",
    "for i in range(0,10):\n",
    "    dense_r = dense_rep(test_samples[i])\n",
    "    trans_dense = transpose(dense_r)    #Converting the test samples into dense representation.\n",
    "    v1 = trans_dense[0]\n",
    "    v2 = trans_dense[1]\n",
    "    (ans, mean,error) = timeit(cosine, v1, v2) \n",
    "    y_values_cd.append(mean)\n",
    "    \n",
    "print(y_values_cd)"
   ]
  },
  {
   "cell_type": "markdown",
   "metadata": {},
   "source": [
    "Now to plot these results."
   ]
  },
  {
   "cell_type": "code",
   "execution_count": 15,
   "metadata": {},
   "outputs": [
    {
     "data": {
      "image/png": "[encoded data removed]",
      "text/plain": [
       "<Figure size 432x288 with 1 Axes>"
      ]
     },
     "metadata": {
      "needs_background": "light"
     },
     "output_type": "display_data"
    }
   ],
   "source": [
    "%matplotlib inline\n",
    "z = np.polyfit(x_values,y_values_cd, 1)\n",
    "p = np.poly1d(z)\n",
    "plt.plot(x_values, p(x_values), c='r')\n",
    "plt.scatter(x_values,y_values_cd, c='r', marker=\"o\")\n",
    "plt.xlim(0,1100)\n",
    "plt.ylim(0,max(y_values_cd)+0.00005)\n",
    "plt.xlabel(\"Word count in dictionary\")\n",
    "plt.ylabel(\"Average time to calculate\")\n",
    "plt.title(\"Worst Case Running Time of Cosine Similarity\")\n",
    "plt.show()"
   ]
  },
  {
   "cell_type": "markdown",
   "metadata": {},
   "source": [
    "Now I have the worst case running time for the Cosine measure. It clearly has a steaper gradient compared to the Jaccard measure, as the times taken increase faster. Also, it doesn't look as linear as the worst case for Jaccard, so it may not have the same form of time complexity function. But for now I will assume it does, and calculate the slope and intercept of the log function."
   ]
  },
  {
   "cell_type": "code",
   "execution_count": 16,
   "metadata": {},
   "outputs": [
    {
     "data": {
      "image/png": "[encoded data removed]",
      "text/plain": [
       "<Figure size 432x288 with 1 Axes>"
      ]
     },
     "metadata": {
      "needs_background": "light"
     },
     "output_type": "display_data"
    },
    {
     "name": "stdout",
     "output_type": "stream",
     "text": [
      "Slope =  0.7946121714481154\n",
      "Intercept =  -5.828979902824791\n",
      "Constant: C =  1.4825866909338113e-06\n"
     ]
    }
   ],
   "source": [
    "log_y_values_cd=[np.log10(y) for y in y_values_cd]\n",
    "\n",
    "plt.scatter(log_x_values,log_y_values_cd,c='r', marker=\"o\")\n",
    "plt.xlabel(\"Log of Word Count of Dictionary\")\n",
    "plt.ylabel(\"Log of Average time to Calculate\")\n",
    "plt.title(\"Worst Case Running Time of Cosine Similarity (Log)\")\n",
    "plt.show()\n",
    "\n",
    "# finding the slope, intercept, and constant for the cosine worst case\n",
    "\n",
    "slope_cd, intercept_cd = np.polyfit(log_x_values,log_y_values_cd,1)\n",
    "print('Slope = ', slope_cd )\n",
    "print('Intercept = ', intercept_cd)\n",
    "constant_cd = 10**intercept_cd \n",
    "print('Constant: C = ', constant_cd)"
   ]
  },
  {
   "cell_type": "markdown",
   "metadata": {},
   "source": [
    "This has given a slope that is less than the jaccard's slope, which is not what we expected. This suggests that this is not the correct time complexity, and could mean that this algorithm has the big O notation of $O(nlogn)$ with the complexity function $y = c_b.nlog(n)$.\n",
    "\n",
    "If this is the case then if we plot the graph of our $y$ values against $t=xlog(x)$, then we should get a y intercept very close to 0, and a gradient of $c_b$."
   ]
  },
  {
   "cell_type": "code",
   "execution_count": 17,
   "metadata": {},
   "outputs": [
    {
     "data": {
      "image/png": "[encoded data removed]",
      "text/plain": [
       "<Figure size 432x288 with 1 Axes>"
      ]
     },
     "metadata": {
      "needs_background": "light"
     },
     "output_type": "display_data"
    },
    {
     "name": "stdout",
     "output_type": "stream",
     "text": [
      "Intercept: 6.890824836133398e-05, Slope: C = 9.553211248740696e-08\n"
     ]
    }
   ],
   "source": [
    "nlogx_values=[x*np.log10(x) for x in x_values]\n",
    "plt.scatter(nlogx_values,y_values_cd, c='r')\n",
    "plt.xlabel(\"log of Number of words\")\n",
    "plt.ylabel(\"Time to compute Cosine similarity\")\n",
    "plt.title(\"Log of worst case running time of Cosine similarity with dense representation\")\n",
    "plt.show()\n",
    "slope, intercept, r_value, p_value, std_err = stats.linregress(nlogx_values, y_values_cd)\n",
    "print(\"Intercept: {}, Slope: C = {}\".format(intercept, slope))"
   ]
  },
  {
   "cell_type": "markdown",
   "metadata": {},
   "source": [
    "As this graph produced a flat line with a gradient close to 0, it proves this algorithmn has the notation $O(nlog(n))$ with the time complexity function $y = c_b.nlogn(n)$ with $c_b$ defined above as the slope C (on my computer $c_b=9.585x10^{-8}$)"
   ]
  },
  {
   "cell_type": "markdown",
   "metadata": {},
   "source": [
    "#### Cosine similarity using numpy's dot product"
   ]
  },
  {
   "cell_type": "markdown",
   "metadata": {},
   "source": [
    "In addition to testing the previous function for calculating Cosine similarity using dense representation, I also want to test the time complexity of using the numpy function for calculating the dot product, compared to my own dot product function. I will make a function incorporating the numpy dot product below."
   ]
  },
  {
   "cell_type": "code",
   "execution_count": 18,
   "metadata": {},
   "outputs": [
    {
     "data": {
      "text/plain": [
       "0.22225022225033336"
      ]
     },
     "execution_count": 18,
     "metadata": {},
     "output_type": "execute_result"
    }
   ],
   "source": [
    "# Now to see the difference between using my own dot product function, and using the numpy dot product function to calculate \n",
    "# Cosine similarity \n",
    "\n",
    "def cosine_np(vector_1,vector_2):\n",
    "    return np.dot(vector_1,vector_2)/math.sqrt(np.dot(vector_1,vector_1)*np.dot(vector_2,vector_2))\n",
    "\n",
    "cosine_np(doc_vectors[0], doc_vectors[1])"
   ]
  },
  {
   "cell_type": "markdown",
   "metadata": {},
   "source": [
    "Now I will use the same methods as before to find the worst case running time of this new Cosine function."
   ]
  },
  {
   "cell_type": "code",
   "execution_count": 19,
   "metadata": {},
   "outputs": [
    {
     "name": "stdout",
     "output_type": "stream",
     "text": [
      "[0.00011591839790344238, 0.00018487167358398438, 0.0002548203468322754, 0.0002967958450317383, 0.00035974955558776853, 0.00040402507781982423, 0.0004399588108062744, 0.00046303153038024903, 0.0004949922561645508, 0.0005239083766937256]\n"
     ]
    }
   ],
   "source": [
    "y_values_cd2 = []\n",
    "for i in range(0,10):\n",
    "    dense_r = dense_rep(test_samples[i])\n",
    "    trans_dense = transpose(dense_r)\n",
    "    v1 = trans_dense[0]\n",
    "    v2 = trans_dense[1]\n",
    "    (ans, mean,error) = timeit(cosine_np, v1, v2)\n",
    "    y_values_cd2.append(mean)\n",
    "    \n",
    "print(y_values_cd2)"
   ]
  },
  {
   "cell_type": "markdown",
   "metadata": {},
   "source": [
    "Now to plot these times."
   ]
  },
  {
   "cell_type": "code",
   "execution_count": 20,
   "metadata": {},
   "outputs": [
    {
     "data": {
      "image/png": "[encoded data removed]",
      "text/plain": [
       "<Figure size 432x288 with 1 Axes>"
      ]
     },
     "metadata": {
      "needs_background": "light"
     },
     "output_type": "display_data"
    }
   ],
   "source": [
    "# Now to plot these values against each other in a scatter graph\n",
    "\n",
    "%matplotlib inline\n",
    "z = np.polyfit(x_values,y_values_cd2, 1)\n",
    "p = np.poly1d(z)\n",
    "plt.plot(x_values, p(x_values), c='k')\n",
    "plt.scatter(x_values, y_values_cd2,c='k', marker=\"v\")\n",
    "plt.xlim(0,1100)\n",
    "plt.ylim(0,max(y_values_cd2)+0.00005)\n",
    "plt.xlabel(\"Word count in dictionary\")\n",
    "plt.ylabel(\"Average time to calculate\")\n",
    "plt.title(\"Worst Case Running Time of Cosine Similarity \\n Using the numpy dot product function\")\n",
    "plt.show()"
   ]
  },
  {
   "cell_type": "markdown",
   "metadata": {},
   "source": [
    "This looks like the slowest algorithm so far (ranges from 0.0001 to 0.0005) and it clearly has a larger gradient than the other 2. Thus if this is the standard complexity notation of O(n), we should expcect the gradient of the log to be higher than the Jaccards. "
   ]
  },
  {
   "cell_type": "code",
   "execution_count": 21,
   "metadata": {},
   "outputs": [
    {
     "data": {
      "image/png": "[encoded data removed]",
      "text/plain": [
       "<Figure size 432x288 with 1 Axes>"
      ]
     },
     "metadata": {
      "needs_background": "light"
     },
     "output_type": "display_data"
    },
    {
     "name": "stdout",
     "output_type": "stream",
     "text": [
      "Slope =  0.6620207129970532\n",
      "Intercept =  -5.248811367702591\n",
      "Constant: C =  5.638825204589933e-06\n"
     ]
    }
   ],
   "source": [
    "log_y_values_cd2=[np.log10(y) for y in y_values_cd2]\n",
    "\n",
    "plt.scatter(log_x_values,log_y_values_cd2,c='k', marker=\"v\")\n",
    "plt.xlabel(\"Log of Word Count of Dictionary\")\n",
    "plt.ylabel(\"Log of Average time to Calculate\")\n",
    "plt.title(\"Worst Case Running Time of Cosine Similarity \\n Using the numpy dot product function (Log)\")\n",
    "plt.show()\n",
    "\n",
    "# finding the slope, intercept, and constant for the worst case\n",
    "\n",
    "slope_cd2, intercept_cd2 = np.polyfit(log_x_values,log_y_values_cd2,1)\n",
    "print('Slope = ', slope_cd2 )\n",
    "print('Intercept = ', intercept_cd2)\n",
    "constant_cd2 = 10**intercept_cd2 \n",
    "print('Constant: C = ', constant_cd2)"
   ]
  },
  {
   "cell_type": "markdown",
   "metadata": {},
   "source": [
    "The slope of this is even smaller than the last cosine function, which suggests this is likely to also have the big O notation $O(nlogn)$ with the time complexity function of $y = c_c.nlogn(n)$. I will test this below as I did before, to find the value of $c_c$."
   ]
  },
  {
   "cell_type": "code",
   "execution_count": 22,
   "metadata": {},
   "outputs": [
    {
     "data": {
      "image/png": "[encoded data removed]",
      "text/plain": [
       "<Figure size 432x288 with 1 Axes>"
      ]
     },
     "metadata": {
      "needs_background": "light"
     },
     "output_type": "display_data"
    },
    {
     "name": "stdout",
     "output_type": "stream",
     "text": [
      "Intercept: 0.0001356839737937507, Slope: c = 1.4133191593899343e-07\n"
     ]
    }
   ],
   "source": [
    "plt.scatter(nlogx_values,y_values_cd2)\n",
    "plt.xlabel(\"Number of words\")\n",
    "plt.ylabel(\"Log of time to compute Cosine similarity\")\n",
    "plt.title(\"Log of worst case running time of Cosine similarity\\n with dense representation (numpy dot product)\")\n",
    "plt.show()\n",
    "\n",
    "slope, intercept, r_value, p_value, std_err = stats.linregress(nlogx_values, y_values_cd2)\n",
    "print(\"Intercept: {}, Slope: c = {}\".format(intercept, slope))"
   ]
  },
  {
   "cell_type": "markdown",
   "metadata": {},
   "source": [
    "Again we have a intercept very close to 0, which suggests this is the correct time complexity, and we have found a $c_c$ value of the slope c above (on my computer $c_c=1.406x10^{-7}$)."
   ]
  },
  {
   "cell_type": "markdown",
   "metadata": {},
   "source": [
    "## (3) Cosine Similarity (Sparse representation)"
   ]
  },
  {
   "cell_type": "markdown",
   "metadata": {},
   "source": [
    "Now I am going to create a new function, which will calculate the Cosine similarity of 2 documents straight from the sparse representation (dictionary form). I will again test this function to find its worst case running time. "
   ]
  },
  {
   "cell_type": "code",
   "execution_count": 23,
   "metadata": {},
   "outputs": [
    {
     "name": "stdout",
     "output_type": "stream",
     "text": [
      "Cosine of first 2 documents with dense representation:  0.22225022225033336\n",
      "Cosine of first 2 documents with sparse representation:  0.22225022225033336\n"
     ]
    }
   ],
   "source": [
    "# Create a function to calculate the cosine similairy of 2 dictionaries (Sparse representaiton)\n",
    "\n",
    "def cosine_sparse(dict_1,dict_2):\n",
    "    intersection = 0\n",
    "    dot_1 = 0\n",
    "    dot_2 = 0\n",
    "    for key_1,value_1 in dict_1.items():\n",
    "        intersection += value_1*dict_2.get(key_1,0.0)\n",
    "        dot_1 += value_1*value_1\n",
    "    for value_2 in dict_2.values():\n",
    "        dot_2 += value_2*value_2\n",
    "    return intersection/math.sqrt(dot_1*dot_2)\n",
    "\n",
    "# Both representations give the same cosine similarity value for our first pair\n",
    "\n",
    "print('Cosine of first 2 documents with dense representation: ', cosine(doc_vectors[0], doc_vectors[1]))\n",
    "print('Cosine of first 2 documents with sparse representation: ', cosine_sparse(list_of_dicts[0], list_of_dicts[1]))"
   ]
  },
  {
   "cell_type": "markdown",
   "metadata": {},
   "source": [
    "As this function gives me identical results to the previous cosine functions, I can asssume it works correctly. Now I will investigate its worst case running time."
   ]
  },
  {
   "cell_type": "code",
   "execution_count": 24,
   "metadata": {},
   "outputs": [
    {
     "name": "stdout",
     "output_type": "stream",
     "text": [
      "[3.097915649414063e-05, 5.416584014892578e-05, 7.694673538208008e-05, 0.00010100436210632324, 0.00012404537200927734, 0.00014096927642822266, 0.0001610262393951416, 0.00017587614059448242, 0.0001920039653778076, 0.00020685911178588867]\n"
     ]
    }
   ],
   "source": [
    "y_values_cs = []\n",
    "for i in range(0,10):\n",
    "    first_doc = test_samples[i][0]\n",
    "    second_doc = test_samples[i][1]\n",
    "    (ans, mean,error) = timeit(cosine_sparse, first_doc, second_doc)\n",
    "    y_values_cs.append(mean)\n",
    "    \n",
    "print(y_values_cs)"
   ]
  },
  {
   "cell_type": "code",
   "execution_count": 25,
   "metadata": {},
   "outputs": [
    {
     "data": {
      "image/png": "[encoded data removed]",
      "text/plain": [
       "<Figure size 432x288 with 1 Axes>"
      ]
     },
     "metadata": {
      "needs_background": "light"
     },
     "output_type": "display_data"
    }
   ],
   "source": [
    "# Now to plot these values against each other in a scatter graph\n",
    "\n",
    "%matplotlib inline\n",
    "z = np.polyfit(x_values,y_values_cs, 1)\n",
    "p = np.poly1d(z)\n",
    "plt.plot(x_values, p(x_values), c='g')\n",
    "plt.scatter(x_values,y_values_cs, c='g', marker=\"8\")\n",
    "plt.xlim(0,1100)\n",
    "plt.ylim(0,max(y_values_cs)+0.00005)\n",
    "plt.xlabel(\"Word count in dictionary\")\n",
    "plt.ylabel(\"Average time to calculate\")\n",
    "plt.title(\"Worst Case Running Time of Cosine Similarity \\n Using Sparse Representation\")\n",
    "plt.show()"
   ]
  },
  {
   "cell_type": "markdown",
   "metadata": {},
   "source": [
    "This algorithm is much faster and more linear than both of the previous cosine algorithms, thus suggesting this algorithm does have a time complexity notation of $O(n)$, and hence has a time complexity function of $y=c_d.x^n$ with $n$ close to 1. I will test this below. "
   ]
  },
  {
   "cell_type": "code",
   "execution_count": 26,
   "metadata": {},
   "outputs": [
    {
     "data": {
      "image/png": "[encoded data removed]",
      "text/plain": [
       "<Figure size 432x288 with 1 Axes>"
      ]
     },
     "metadata": {
      "needs_background": "light"
     },
     "output_type": "display_data"
    },
    {
     "name": "stdout",
     "output_type": "stream",
     "text": [
      "Slope =  0.8371220102265565\n",
      "Intercept =  -6.182464335237154\n",
      "Constant: C =  6.569550641673177e-07\n"
     ]
    }
   ],
   "source": [
    "log_y_values_cs=[np.log10(y) for y in y_values_cs]\n",
    "\n",
    "plt.scatter(log_x_values,log_y_values_cs, c='g', marker=\"8\")\n",
    "plt.xlabel(\"Log of Word Count of Dictionary\")\n",
    "plt.ylabel(\"Log of Average time to Calculate\")\n",
    "plt.title(\"Worst Case Running Time of Cosine Similarity \\n Using Sparse representaiton (Log)\")\n",
    "plt.show()\n",
    "\n",
    "# finding the slope, intercept, and constant for the cosine worst case\n",
    "\n",
    "slope_cs, intercept_cs = np.polyfit(log_x_values,log_y_values_cs,1)\n",
    "print('Slope = ', slope_cs )\n",
    "print('Intercept = ', intercept_cs)\n",
    "constant_cs = 10**intercept_cs \n",
    "print('Constant: C = ', constant_cs)"
   ]
  },
  {
   "cell_type": "markdown",
   "metadata": {},
   "source": [
    "This has given a gradient very close to that of the Jaccard measure, which suggests this is an accurate gradient as the 2 graphs look very similar. Thus I will assume this to be true, taking my value of $c_d$ = c, with c defined above (on my computer $c_c=6.531x10^{-7}$ and $n=0.836$)"
   ]
  },
  {
   "cell_type": "markdown",
   "metadata": {},
   "source": [
    "#### All 4 algorithms \n",
    "\n",
    "Now I have found the worst case running times for 4 different algorithms for calculating the similarity of 2 bags of words, now I will plot these all against each other to see how they compare in running time."
   ]
  },
  {
   "cell_type": "code",
   "execution_count": 27,
   "metadata": {},
   "outputs": [
    {
     "data": {
      "image/png": "[encoded data removed]",
      "text/plain": [
       "<Figure size 432x288 with 1 Axes>"
      ]
     },
     "metadata": {
      "needs_background": "light"
     },
     "output_type": "display_data"
    },
    {
     "name": "stdout",
     "output_type": "stream",
     "text": [
      "(D) = dense representation \n",
      "(S) = sparse representation\n"
     ]
    }
   ],
   "source": [
    "fig = plt.figure()\n",
    "ax1 = fig.add_subplot(111)\n",
    "ax1.scatter(x_values, y_values_j, c='b', marker=\"s\", label='Jaccard (S)')\n",
    "ax1.scatter(x_values,y_values_cd, c='r', marker=\"o\", label='Cosine (D)')\n",
    "ax1.scatter(x_values,y_values_cd2, c='y', marker=\"v\", label='Cosine with numpy (D)')\n",
    "ax1.scatter(x_values,y_values_cs, c='g', marker=\"8\", label='Cosine (S)')\n",
    "plt.xlim(0,1100)\n",
    "plt.ylim(0,max(y_values_cd2)+0.00005)\n",
    "plt.xlabel(\"Word Count of Dictionary\")\n",
    "plt.ylabel(\"Average time to Calculate\")\n",
    "plt.title(\"Worst Case Running Time\")\n",
    "plt.legend(loc='upper left');\n",
    "plt.show()\n",
    "\n",
    "print('(D) = dense representation \\n(S) = sparse representation')"
   ]
  },
  {
   "cell_type": "markdown",
   "metadata": {},
   "source": [
    "This graph clearly shows that the algorithms using dense representation are much slower than the 2 sparse measures, the algorithm using the numpy dot product being by far the slowest. This is to be expected as the 2 algorithms under $O(n)$ will run much faster (have a lower gradient) than the 2 functions with $O(nlogn)$ notation. "
   ]
  },
  {
   "cell_type": "markdown",
   "metadata": {},
   "source": [
    "## (4) All pairs function "
   ]
  },
  {
   "cell_type": "markdown",
   "metadata": {},
   "source": [
    "Below I have made a function that will compute the similarity of all pairs in a list of dictionaries up to the nth dictionary, using a specified similarity measure (Jaccard or Cosine). When first creating this function I attempted to include nclude the similarity checks for dense representations as well (cosine with and without using numpys dot product) but due to these having very large running times (5 to 10 minutes per cell) I decided to remove them for the function and only include the 2 sparse methods. \n",
    "\n",
    "Below I have printed 2 dictionaries where the keys are the pairs of documents (documents position in the list), and the value is the similarity of that pair. The first dictionary displays the similarities for the Jaccard measure, and the second displays the similarities for the Cosine measure."
   ]
  },
  {
   "cell_type": "code",
   "execution_count": 28,
   "metadata": {},
   "outputs": [
    {
     "data": {
      "text/plain": [
       "{(1, 2): 0.10497237569060773,\n",
       " (1, 3): 0.09289617486338798,\n",
       " (1, 4): 0.0989010989010989,\n",
       " (1, 5): 0.07526881720430108,\n",
       " (1, 6): 0.05263157894736842,\n",
       " (1, 7): 0.1111111111111111,\n",
       " (1, 8): 0.07526881720430108,\n",
       " (1, 9): 0.09289617486338798,\n",
       " (1, 10): 0.07526881720430108,\n",
       " (1, 11): 0.0582010582010582,\n",
       " (1, 12): 0.0582010582010582,\n",
       " (1, 13): 0.08695652173913043,\n",
       " (1, 14): 0.07526881720430108,\n",
       " (1, 15): 0.07526881720430108,\n",
       " (1, 16): 0.09289617486338798,\n",
       " (1, 17): 0.07526881720430108,\n",
       " (1, 18): 0.0989010989010989,\n",
       " (1, 19): 0.04712041884816754,\n",
       " (1, 20): 0.08108108108108109,\n",
       " (2, 1): 0.10497237569060773,\n",
       " (2, 3): 0.12359550561797752,\n",
       " (2, 4): 0.13636363636363635,\n",
       " (2, 5): 0.0582010582010582,\n",
       " (2, 6): 0.0989010989010989,\n",
       " (2, 7): 0.0989010989010989,\n",
       " (2, 8): 0.10497237569060773,\n",
       " (2, 9): 0.1111111111111111,\n",
       " (2, 10): 0.11731843575418995,\n",
       " (2, 11): 0.08695652173913043,\n",
       " (2, 12): 0.08695652173913043,\n",
       " (2, 13): 0.12359550561797752,\n",
       " (2, 14): 0.08695652173913043,\n",
       " (2, 15): 0.11731843575418995,\n",
       " (2, 16): 0.08108108108108109,\n",
       " (2, 17): 0.11731843575418995,\n",
       " (2, 18): 0.0989010989010989,\n",
       " (2, 19): 0.0989010989010989,\n",
       " (2, 20): 0.09289617486338798,\n",
       " (3, 1): 0.09289617486338798,\n",
       " (3, 2): 0.12359550561797752,\n",
       " (3, 4): 0.08695652173913043,\n",
       " (3, 5): 0.06951871657754011,\n",
       " (3, 6): 0.08695652173913043,\n",
       " (3, 7): 0.11731843575418995,\n",
       " (3, 8): 0.04712041884816754,\n",
       " (3, 9): 0.0989010989010989,\n",
       " (3, 10): 0.0989010989010989,\n",
       " (3, 11): 0.08108108108108109,\n",
       " (3, 12): 0.09289617486338798,\n",
       " (3, 13): 0.09289617486338798,\n",
       " (3, 14): 0.08108108108108109,\n",
       " (3, 15): 0.07526881720430108,\n",
       " (3, 16): 0.09289617486338798,\n",
       " (3, 17): 0.08108108108108109,\n",
       " (3, 18): 0.08108108108108109,\n",
       " (3, 19): 0.04712041884816754,\n",
       " (3, 20): 0.08108108108108109,\n",
       " (4, 1): 0.0989010989010989,\n",
       " (4, 2): 0.13636363636363635,\n",
       " (4, 3): 0.08695652173913043,\n",
       " (4, 5): 0.10497237569060773,\n",
       " (4, 6): 0.0989010989010989,\n",
       " (4, 7): 0.11731843575418995,\n",
       " (4, 8): 0.10497237569060773,\n",
       " (4, 9): 0.08108108108108109,\n",
       " (4, 10): 0.1111111111111111,\n",
       " (4, 11): 0.08695652173913043,\n",
       " (4, 12): 0.11731843575418995,\n",
       " (4, 13): 0.14285714285714285,\n",
       " (4, 14): 0.12359550561797752,\n",
       " (4, 15): 0.09289617486338798,\n",
       " (4, 16): 0.1111111111111111,\n",
       " (4, 17): 0.12359550561797752,\n",
       " (4, 18): 0.10497237569060773,\n",
       " (4, 19): 0.1111111111111111,\n",
       " (4, 20): 0.12359550561797752,\n",
       " (5, 1): 0.07526881720430108,\n",
       " (5, 2): 0.0582010582010582,\n",
       " (5, 3): 0.06951871657754011,\n",
       " (5, 4): 0.10497237569060773,\n",
       " (5, 6): 0.07526881720430108,\n",
       " (5, 7): 0.06951871657754011,\n",
       " (5, 8): 0.08108108108108109,\n",
       " (5, 9): 0.11731843575418995,\n",
       " (5, 10): 0.09289617486338798,\n",
       " (5, 11): 0.07526881720430108,\n",
       " (5, 12): 0.0989010989010989,\n",
       " (5, 13): 0.0989010989010989,\n",
       " (5, 14): 0.0989010989010989,\n",
       " (5, 15): 0.0582010582010582,\n",
       " (5, 16): 0.1111111111111111,\n",
       " (5, 17): 0.10497237569060773,\n",
       " (5, 18): 0.08695652173913043,\n",
       " (5, 19): 0.08695652173913043,\n",
       " (5, 20): 0.08108108108108109,\n",
       " (6, 1): 0.05263157894736842,\n",
       " (6, 2): 0.0989010989010989,\n",
       " (6, 3): 0.08695652173913043,\n",
       " (6, 4): 0.0989010989010989,\n",
       " (6, 5): 0.07526881720430108,\n",
       " (6, 7): 0.09289617486338798,\n",
       " (6, 8): 0.0989010989010989,\n",
       " (6, 9): 0.09289617486338798,\n",
       " (6, 10): 0.0582010582010582,\n",
       " (6, 11): 0.10497237569060773,\n",
       " (6, 12): 0.10497237569060773,\n",
       " (6, 13): 0.07526881720430108,\n",
       " (6, 14): 0.06951871657754011,\n",
       " (6, 15): 0.0989010989010989,\n",
       " (6, 16): 0.0989010989010989,\n",
       " (6, 17): 0.10497237569060773,\n",
       " (6, 18): 0.09289617486338798,\n",
       " (6, 19): 0.08695652173913043,\n",
       " (6, 20): 0.09289617486338798,\n",
       " (7, 1): 0.1111111111111111,\n",
       " (7, 2): 0.0989010989010989,\n",
       " (7, 3): 0.11731843575418995,\n",
       " (7, 4): 0.11731843575418995,\n",
       " (7, 5): 0.06951871657754011,\n",
       " (7, 6): 0.09289617486338798,\n",
       " (7, 8): 0.0989010989010989,\n",
       " (7, 9): 0.1111111111111111,\n",
       " (7, 10): 0.11731843575418995,\n",
       " (7, 11): 0.0989010989010989,\n",
       " (7, 12): 0.08108108108108109,\n",
       " (7, 13): 0.08108108108108109,\n",
       " (7, 14): 0.13636363636363635,\n",
       " (7, 15): 0.08108108108108109,\n",
       " (7, 16): 0.09289617486338798,\n",
       " (7, 17): 0.08695652173913043,\n",
       " (7, 18): 0.06951871657754011,\n",
       " (7, 19): 0.08695652173913043,\n",
       " (7, 20): 0.08695652173913043,\n",
       " (8, 1): 0.07526881720430108,\n",
       " (8, 2): 0.10497237569060773,\n",
       " (8, 3): 0.04712041884816754,\n",
       " (8, 4): 0.10497237569060773,\n",
       " (8, 5): 0.08108108108108109,\n",
       " (8, 6): 0.0989010989010989,\n",
       " (8, 7): 0.0989010989010989,\n",
       " (8, 9): 0.09289617486338798,\n",
       " (8, 10): 0.06951871657754011,\n",
       " (8, 11): 0.06382978723404255,\n",
       " (8, 12): 0.08695652173913043,\n",
       " (8, 13): 0.08108108108108109,\n",
       " (8, 14): 0.0989010989010989,\n",
       " (8, 15): 0.1111111111111111,\n",
       " (8, 16): 0.08108108108108109,\n",
       " (8, 17): 0.08695652173913043,\n",
       " (8, 18): 0.06951871657754011,\n",
       " (8, 19): 0.0582010582010582,\n",
       " (8, 20): 0.07526881720430108,\n",
       " (9, 1): 0.09289617486338798,\n",
       " (9, 2): 0.1111111111111111,\n",
       " (9, 3): 0.0989010989010989,\n",
       " (9, 4): 0.08108108108108109,\n",
       " (9, 5): 0.11731843575418995,\n",
       " (9, 6): 0.09289617486338798,\n",
       " (9, 7): 0.1111111111111111,\n",
       " (9, 8): 0.09289617486338798,\n",
       " (9, 10): 0.10497237569060773,\n",
       " (9, 11): 0.0989010989010989,\n",
       " (9, 12): 0.12359550561797752,\n",
       " (9, 13): 0.08695652173913043,\n",
       " (9, 14): 0.1111111111111111,\n",
       " (9, 15): 0.08695652173913043,\n",
       " (9, 16): 0.11731843575418995,\n",
       " (9, 17): 0.13636363636363635,\n",
       " (9, 18): 0.10497237569060773,\n",
       " (9, 19): 0.05263157894736842,\n",
       " (9, 20): 0.14285714285714285,\n",
       " (10, 1): 0.07526881720430108,\n",
       " (10, 2): 0.11731843575418995,\n",
       " (10, 3): 0.0989010989010989,\n",
       " (10, 4): 0.1111111111111111,\n",
       " (10, 5): 0.09289617486338798,\n",
       " (10, 6): 0.0582010582010582,\n",
       " (10, 7): 0.11731843575418995,\n",
       " (10, 8): 0.06951871657754011,\n",
       " (10, 9): 0.10497237569060773,\n",
       " (10, 11): 0.0989010989010989,\n",
       " (10, 12): 0.10497237569060773,\n",
       " (10, 13): 0.1111111111111111,\n",
       " (10, 14): 0.07526881720430108,\n",
       " (10, 15): 0.08695652173913043,\n",
       " (10, 16): 0.08108108108108109,\n",
       " (10, 17): 0.09289617486338798,\n",
       " (10, 18): 0.0989010989010989,\n",
       " (10, 19): 0.08108108108108109,\n",
       " (10, 20): 0.10497237569060773,\n",
       " (11, 1): 0.0582010582010582,\n",
       " (11, 2): 0.08695652173913043,\n",
       " (11, 3): 0.08108108108108109,\n",
       " (11, 4): 0.08695652173913043,\n",
       " (11, 5): 0.07526881720430108,\n",
       " (11, 6): 0.10497237569060773,\n",
       " (11, 7): 0.0989010989010989,\n",
       " (11, 8): 0.06382978723404255,\n",
       " (11, 9): 0.0989010989010989,\n",
       " (11, 10): 0.0989010989010989,\n",
       " (11, 12): 0.11731843575418995,\n",
       " (11, 13): 0.08695652173913043,\n",
       " (11, 14): 0.06951871657754011,\n",
       " (11, 15): 0.12359550561797752,\n",
       " (11, 16): 0.08695652173913043,\n",
       " (11, 17): 0.08108108108108109,\n",
       " (11, 18): 0.06951871657754011,\n",
       " (11, 19): 0.1111111111111111,\n",
       " (11, 20): 0.10497237569060773,\n",
       " (12, 1): 0.0582010582010582,\n",
       " (12, 2): 0.08695652173913043,\n",
       " (12, 3): 0.09289617486338798,\n",
       " (12, 4): 0.11731843575418995,\n",
       " (12, 5): 0.0989010989010989,\n",
       " (12, 6): 0.10497237569060773,\n",
       " (12, 7): 0.08108108108108109,\n",
       " (12, 8): 0.08695652173913043,\n",
       " (12, 9): 0.12359550561797752,\n",
       " (12, 10): 0.10497237569060773,\n",
       " (12, 11): 0.11731843575418995,\n",
       " (12, 13): 0.11731843575418995,\n",
       " (12, 14): 0.12359550561797752,\n",
       " (12, 15): 0.0989010989010989,\n",
       " (12, 16): 0.08695652173913043,\n",
       " (12, 17): 0.10497237569060773,\n",
       " (12, 18): 0.09289617486338798,\n",
       " (12, 19): 0.09289617486338798,\n",
       " (12, 20): 0.10497237569060773,\n",
       " (13, 1): 0.08695652173913043,\n",
       " (13, 2): 0.12359550561797752,\n",
       " (13, 3): 0.09289617486338798,\n",
       " (13, 4): 0.14285714285714285,\n",
       " (13, 5): 0.0989010989010989,\n",
       " (13, 6): 0.07526881720430108,\n",
       " (13, 7): 0.08108108108108109,\n",
       " (13, 8): 0.08108108108108109,\n",
       " (13, 9): 0.08695652173913043,\n",
       " (13, 10): 0.1111111111111111,\n",
       " (13, 11): 0.08695652173913043,\n",
       " (13, 12): 0.11731843575418995,\n",
       " (13, 14): 0.1111111111111111,\n",
       " (13, 15): 0.09289617486338798,\n",
       " (13, 16): 0.08695652173913043,\n",
       " (13, 17): 0.10497237569060773,\n",
       " (13, 18): 0.09289617486338798,\n",
       " (13, 19): 0.05263157894736842,\n",
       " (13, 20): 0.08108108108108109,\n",
       " (14, 1): 0.07526881720430108,\n",
       " (14, 2): 0.08695652173913043,\n",
       " (14, 3): 0.08108108108108109,\n",
       " (14, 4): 0.12359550561797752,\n",
       " (14, 5): 0.0989010989010989,\n",
       " (14, 6): 0.06951871657754011,\n",
       " (14, 7): 0.13636363636363635,\n",
       " (14, 8): 0.0989010989010989,\n",
       " (14, 9): 0.1111111111111111,\n",
       " (14, 10): 0.07526881720430108,\n",
       " (14, 11): 0.06951871657754011,\n",
       " (14, 12): 0.12359550561797752,\n",
       " (14, 13): 0.1111111111111111,\n",
       " (14, 15): 0.08108108108108109,\n",
       " (14, 16): 0.0989010989010989,\n",
       " (14, 17): 0.1111111111111111,\n",
       " (14, 18): 0.10497237569060773,\n",
       " (14, 19): 0.08108108108108109,\n",
       " (14, 20): 0.14285714285714285,\n",
       " (15, 1): 0.07526881720430108,\n",
       " (15, 2): 0.11731843575418995,\n",
       " (15, 3): 0.07526881720430108,\n",
       " (15, 4): 0.09289617486338798,\n",
       " (15, 5): 0.0582010582010582,\n",
       " (15, 6): 0.0989010989010989,\n",
       " (15, 7): 0.08108108108108109,\n",
       " (15, 8): 0.1111111111111111,\n",
       " (15, 9): 0.08695652173913043,\n",
       " (15, 10): 0.08695652173913043,\n",
       " (15, 11): 0.12359550561797752,\n",
       " (15, 12): 0.0989010989010989,\n",
       " (15, 13): 0.09289617486338798,\n",
       " (15, 14): 0.08108108108108109,\n",
       " (15, 16): 0.04712041884816754,\n",
       " (15, 17): 0.07526881720430108,\n",
       " (15, 18): 0.08695652173913043,\n",
       " (15, 19): 0.07526881720430108,\n",
       " (15, 20): 0.06951871657754011,\n",
       " (16, 1): 0.09289617486338798,\n",
       " (16, 2): 0.08108108108108109,\n",
       " (16, 3): 0.09289617486338798,\n",
       " (16, 4): 0.1111111111111111,\n",
       " (16, 5): 0.1111111111111111,\n",
       " (16, 6): 0.0989010989010989,\n",
       " (16, 7): 0.09289617486338798,\n",
       " (16, 8): 0.08108108108108109,\n",
       " (16, 9): 0.11731843575418995,\n",
       " (16, 10): 0.08108108108108109,\n",
       " (16, 11): 0.08695652173913043,\n",
       " (16, 12): 0.08695652173913043,\n",
       " (16, 13): 0.08695652173913043,\n",
       " (16, 14): 0.0989010989010989,\n",
       " (16, 15): 0.04712041884816754,\n",
       " (16, 17): 0.11731843575418995,\n",
       " (16, 18): 0.09289617486338798,\n",
       " (16, 19): 0.06951871657754011,\n",
       " (16, 20): 0.13636363636363635,\n",
       " (17, 1): 0.07526881720430108,\n",
       " (17, 2): 0.11731843575418995,\n",
       " (17, 3): 0.08108108108108109,\n",
       " (17, 4): 0.12359550561797752,\n",
       " (17, 5): 0.10497237569060773,\n",
       " (17, 6): 0.10497237569060773,\n",
       " (17, 7): 0.08695652173913043,\n",
       " (17, 8): 0.08695652173913043,\n",
       " (17, 9): 0.13636363636363635,\n",
       " (17, 10): 0.09289617486338798,\n",
       " (17, 11): 0.08108108108108109,\n",
       " (17, 12): 0.10497237569060773,\n",
       " (17, 13): 0.10497237569060773,\n",
       " (17, 14): 0.1111111111111111,\n",
       " (17, 15): 0.07526881720430108,\n",
       " (17, 16): 0.11731843575418995,\n",
       " (17, 18): 0.09289617486338798,\n",
       " (17, 19): 0.05263157894736842,\n",
       " (17, 20): 0.1111111111111111,\n",
       " (18, 1): 0.0989010989010989,\n",
       " (18, 2): 0.0989010989010989,\n",
       " (18, 3): 0.08108108108108109,\n",
       " (18, 4): 0.10497237569060773,\n",
       " (18, 5): 0.08695652173913043,\n",
       " (18, 6): 0.09289617486338798,\n",
       " (18, 7): 0.06951871657754011,\n",
       " (18, 8): 0.06951871657754011,\n",
       " (18, 9): 0.10497237569060773,\n",
       " (18, 10): 0.0989010989010989,\n",
       " (18, 11): 0.06951871657754011,\n",
       " (18, 12): 0.09289617486338798,\n",
       " (18, 13): 0.09289617486338798,\n",
       " (18, 14): 0.10497237569060773,\n",
       " (18, 15): 0.08695652173913043,\n",
       " (18, 16): 0.09289617486338798,\n",
       " (18, 17): 0.09289617486338798,\n",
       " (18, 19): 0.0582010582010582,\n",
       " (18, 20): 0.09289617486338798,\n",
       " (19, 1): 0.04712041884816754,\n",
       " (19, 2): 0.0989010989010989,\n",
       " (19, 3): 0.04712041884816754,\n",
       " (19, 4): 0.1111111111111111,\n",
       " (19, 5): 0.08695652173913043,\n",
       " (19, 6): 0.08695652173913043,\n",
       " (19, 7): 0.08695652173913043,\n",
       " (19, 8): 0.0582010582010582,\n",
       " (19, 9): 0.05263157894736842,\n",
       " (19, 10): 0.08108108108108109,\n",
       " (19, 11): 0.1111111111111111,\n",
       " (19, 12): 0.09289617486338798,\n",
       " (19, 13): 0.05263157894736842,\n",
       " (19, 14): 0.08108108108108109,\n",
       " (19, 15): 0.07526881720430108,\n",
       " (19, 16): 0.06951871657754011,\n",
       " (19, 17): 0.05263157894736842,\n",
       " (19, 18): 0.0582010582010582,\n",
       " (19, 20): 0.0989010989010989,\n",
       " (20, 1): 0.08108108108108109,\n",
       " (20, 2): 0.09289617486338798,\n",
       " (20, 3): 0.08108108108108109,\n",
       " (20, 4): 0.12359550561797752,\n",
       " (20, 5): 0.08108108108108109,\n",
       " (20, 6): 0.09289617486338798,\n",
       " (20, 7): 0.08695652173913043,\n",
       " (20, 8): 0.07526881720430108,\n",
       " (20, 9): 0.14285714285714285,\n",
       " (20, 10): 0.10497237569060773,\n",
       " (20, 11): 0.10497237569060773,\n",
       " (20, 12): 0.10497237569060773,\n",
       " (20, 13): 0.08108108108108109,\n",
       " (20, 14): 0.14285714285714285,\n",
       " (20, 15): 0.06951871657754011,\n",
       " (20, 16): 0.13636363636363635,\n",
       " (20, 17): 0.1111111111111111,\n",
       " (20, 18): 0.09289617486338798,\n",
       " (20, 19): 0.0989010989010989}"
      ]
     },
     "execution_count": 28,
     "metadata": {},
     "output_type": "execute_result"
    }
   ],
   "source": [
    "def all_pairs_sim(dicts_list, sim_check, n):\n",
    "    sim_dict = {}  \n",
    "    if sim_check == jaccard or sim_check ==  cosine_sparse:\n",
    "        for i in range(0,n):\n",
    "            for j in range(0,n):\n",
    "                if i!=j:\n",
    "                    sim_dict[i+1,j+1] = sim_check(dicts_list[i], dicts_list[j])\n",
    "    return sim_dict\n",
    "\n",
    "all_pairs_sim(list_of_dicts, jaccard, 20)"
   ]
  },
  {
   "cell_type": "code",
   "execution_count": 29,
   "metadata": {},
   "outputs": [
    {
     "data": {
      "text/plain": [
       "{(1, 2): 0.22225022225033336,\n",
       " (1, 3): 0.18875299723585118,\n",
       " (1, 4): 0.21379652762353413,\n",
       " (1, 5): 0.20171788261496962,\n",
       " (1, 6): 0.13018891098082389,\n",
       " (1, 7): 0.2743363203563587,\n",
       " (1, 8): 0.13130643285972254,\n",
       " (1, 9): 0.22737714847156215,\n",
       " (1, 10): 0.16804840491192596,\n",
       " (1, 11): 0.158686362385502,\n",
       " (1, 12): 0.17751173670117326,\n",
       " (1, 13): 0.20343336780168375,\n",
       " (1, 14): 0.2047307562133314,\n",
       " (1, 15): 0.157485197087178,\n",
       " (1, 16): 0.19364916731037085,\n",
       " (1, 17): 0.13603918492870198,\n",
       " (1, 18): 0.26987526987540483,\n",
       " (1, 19): 0.12417490847484786,\n",
       " (1, 20): 0.16668766668775004,\n",
       " (2, 1): 0.22225022225033336,\n",
       " (2, 3): 0.25847697156146465,\n",
       " (2, 4): 0.32582623392466287,\n",
       " (2, 5): 0.1475608130513894,\n",
       " (2, 6): 0.2232091110858452,\n",
       " (2, 7): 0.2541325113662818,\n",
       " (2, 8): 0.2418010379123379,\n",
       " (2, 9): 0.23871592765805777,\n",
       " (2, 10): 0.28456225021325376,\n",
       " (2, 11): 0.19516771707436256,\n",
       " (2, 12): 0.2049455736824853,\n",
       " (2, 13): 0.3174144950046523,\n",
       " (2, 14): 0.22400716834408235,\n",
       " (2, 15): 0.2720087044178143,\n",
       " (2, 16): 0.17215428189328766,\n",
       " (2, 17): 0.25204085018888195,\n",
       " (2, 18): 0.21774193548387097,\n",
       " (2, 19): 0.22709129971021502,\n",
       " (2, 20): 0.22580645161290322,\n",
       " (3, 1): 0.18875299723585118,\n",
       " (3, 2): 0.25847697156146465,\n",
       " (3, 4): 0.20052042428601002,\n",
       " (3, 5): 0.16951587590520262,\n",
       " (3, 6): 0.17949373573723143,\n",
       " (3, 7): 0.21189484488150326,\n",
       " (3, 8): 0.09482758620689655,\n",
       " (3, 9): 0.19904054853077563,\n",
       " (3, 10): 0.1849327257632488,\n",
       " (3, 11): 0.1754656015858991,\n",
       " (3, 12): 0.194943257290983,\n",
       " (3, 13): 0.2747531298926986,\n",
       " (3, 14): 0.16543055566182172,\n",
       " (3, 15): 0.15715902787873062,\n",
       " (3, 16): 0.2034190510862431,\n",
       " (3, 17): 0.16812065978477164,\n",
       " (3, 18): 0.1667593364912675,\n",
       " (3, 19): 0.09565579045742019,\n",
       " (3, 20): 0.1750973033158309,\n",
       " (4, 1): 0.21379652762353413,\n",
       " (4, 2): 0.32582623392466287,\n",
       " (4, 3): 0.20052042428601002,\n",
       " (4, 5): 0.2286941079802355,\n",
       " (4, 6): 0.25448171065407577,\n",
       " (4, 7): 0.25235211915060474,\n",
       " (4, 8): 0.24062450914321204,\n",
       " (4, 9): 0.2370435403783839,\n",
       " (4, 10): 0.26591730613478676,\n",
       " (4, 11): 0.2285581019569187,\n",
       " (4, 12): 0.2838961340444303,\n",
       " (4, 13): 0.35504773582662247,\n",
       " (4, 14): 0.2924461611417531,\n",
       " (4, 15): 0.20779069344282455,\n",
       " (4, 16): 0.2602381228740611,\n",
       " (4, 17): 0.30502279233107893,\n",
       " (4, 18): 0.23273302423190206,\n",
       " (4, 19): 0.22654433493241716,\n",
       " (4, 20): 0.27927962907828247,\n",
       " (5, 1): 0.20171788261496962,\n",
       " (5, 2): 0.1475608130513894,\n",
       " (5, 3): 0.16951587590520262,\n",
       " (5, 4): 0.2286941079802355,\n",
       " (5, 6): 0.1596695032950434,\n",
       " (5, 7): 0.175,\n",
       " (5, 8): 0.18646746349572288,\n",
       " (5, 9): 0.29745653826544605,\n",
       " (5, 10): 0.18182439134950373,\n",
       " (5, 11): 0.18976802881914742,\n",
       " (5, 12): 0.21666666666666667,\n",
       " (5, 13): 0.28514260696414045,\n",
       " (5, 14): 0.2439750182371333,\n",
       " (5, 15): 0.1301200097264711,\n",
       " (5, 16): 0.25,\n",
       " (5, 17): 0.22314811665620912,\n",
       " (5, 18): 0.2213412195770841,\n",
       " (5, 19): 0.20519567041703082,\n",
       " (5, 20): 0.2049455736824853,\n",
       " (6, 1): 0.13018891098082389,\n",
       " (6, 2): 0.2232091110858452,\n",
       " (6, 3): 0.17949373573723143,\n",
       " (6, 4): 0.25448171065407577,\n",
       " (6, 5): 0.1596695032950434,\n",
       " (6, 7): 0.22689876784032484,\n",
       " (6, 8): 0.23077766023358326,\n",
       " (6, 9): 0.2052404178339686,\n",
       " (6, 10): 0.14168634669269295,\n",
       " (6, 11): 0.22616392520774684,\n",
       " (6, 12): 0.21849510977216466,\n",
       " (6, 13): 0.1816098419058007,\n",
       " (6, 14): 0.1558214799132889,\n",
       " (6, 15): 0.18042487147854505,\n",
       " (6, 16): 0.23530242590848502,\n",
       " (6, 17): 0.24170023847577032,\n",
       " (6, 18): 0.19014109462868295,\n",
       " (6, 19): 0.18106139638141988,\n",
       " (6, 20): 0.2232091110858452,\n",
       " (7, 1): 0.2743363203563587,\n",
       " (7, 2): 0.2541325113662818,\n",
       " (7, 3): 0.21189484488150326,\n",
       " (7, 4): 0.25235211915060474,\n",
       " (7, 5): 0.175,\n",
       " (7, 6): 0.22689876784032484,\n",
       " (7, 8): 0.22037063867676338,\n",
       " (7, 9): 0.23483410915693106,\n",
       " (7, 10): 0.21488337159486803,\n",
       " (7, 11): 0.19839384831092685,\n",
       " (7, 12): 0.19166666666666668,\n",
       " (7, 13): 0.21010507881568247,\n",
       " (7, 14): 0.27650502066875104,\n",
       " (7, 15): 0.15451751155018442,\n",
       " (7, 16): 0.20833333333333334,\n",
       " (7, 17): 0.18182439134950373,\n",
       " (7, 18): 0.18035210484058706,\n",
       " (7, 19): 0.20519567041703082,\n",
       " (7, 20): 0.15575863599868883,\n",
       " (8, 1): 0.13130643285972254,\n",
       " (8, 2): 0.2418010379123379,\n",
       " (8, 3): 0.09482758620689655,\n",
       " (8, 4): 0.24062450914321204,\n",
       " (8, 5): 0.18646746349572288,\n",
       " (8, 6): 0.23077766023358326,\n",
       " (8, 7): 0.22037063867676338,\n",
       " (8, 9): 0.23088703629569973,\n",
       " (8, 10): 0.14290256081705588,\n",
       " (8, 11): 0.16669232150660415,\n",
       " (8, 12): 0.2034190510862431,\n",
       " (8, 13): 0.18316875326179907,\n",
       " (8, 14): 0.21505972236036824,\n",
       " (8, 15): 0.2316027779265504,\n",
       " (8, 16): 0.2034190510862431,\n",
       " (8, 17): 0.2185568577202031,\n",
       " (8, 18): 0.15842136966670414,\n",
       " (8, 19): 0.15652765711214212,\n",
       " (8, 20): 0.19177323696495766,\n",
       " (9, 1): 0.22737714847156215,\n",
       " (9, 2): 0.23871592765805777,\n",
       " (9, 3): 0.19904054853077563,\n",
       " (9, 4): 0.2370435403783839,\n",
       " (9, 5): 0.29745653826544605,\n",
       " (9, 6): 0.2052404178339686,\n",
       " (9, 7): 0.23483410915693106,\n",
       " (9, 8): 0.23088703629569973,\n",
       " (9, 10): 0.24066466144225807,\n",
       " (9, 11): 0.25928148942086576,\n",
       " (9, 12): 0.29745653826544605,\n",
       " (9, 13): 0.25374774349557044,\n",
       " (9, 14): 0.25973124082465987,\n",
       " (9, 15): 0.2138963159732493,\n",
       " (9, 16): 0.25831752007262415,\n",
       " (9, 17): 0.3105350470222685,\n",
       " (9, 18): 0.2156143862717941,\n",
       " (9, 19): 0.08031157077540445,\n",
       " (9, 20): 0.2849190104305851,\n",
       " (10, 1): 0.16804840491192596,\n",
       " (10, 2): 0.28456225021325376,\n",
       " (10, 3): 0.1849327257632488,\n",
       " (10, 4): 0.26591730613478676,\n",
       " (10, 5): 0.18182439134950373,\n",
       " (10, 6): 0.14168634669269295,\n",
       " (10, 7): 0.21488337159486803,\n",
       " (10, 8): 0.14290256081705588,\n",
       " (10, 9): 0.24066466144225807,\n",
       " (10, 11): 0.1882061254780176,\n",
       " (10, 12): 0.2727365870242556,\n",
       " (10, 13): 0.28279571432217604,\n",
       " (10, 14): 0.15324574085701198,\n",
       " (10, 15): 0.2016391327065947,\n",
       " (10, 16): 0.17355964628816264,\n",
       " (10, 17): 0.20491803278688525,\n",
       " (10, 18): 0.2113891001584171,\n",
       " (10, 19): 0.1695889903687727,\n",
       " (10, 20): 0.17886770013404524,\n",
       " (11, 1): 0.158686362385502,\n",
       " (11, 2): 0.19516771707436256,\n",
       " (11, 3): 0.1754656015858991,\n",
       " (11, 4): 0.2285581019569187,\n",
       " (11, 5): 0.18976802881914742,\n",
       " (11, 6): 0.22616392520774684,\n",
       " (11, 7): 0.19839384831092685,\n",
       " (11, 8): 0.16669232150660415,\n",
       " (11, 9): 0.25928148942086576,\n",
       " (11, 10): 0.1882061254780176,\n",
       " (11, 12): 0.25877458475338283,\n",
       " (11, 13): 0.240780784325465,\n",
       " (11, 14): 0.15152288168283162,\n",
       " (11, 15): 0.23570226039551587,\n",
       " (11, 16): 0.18976802881914742,\n",
       " (11, 17): 0.1882061254780176,\n",
       " (11, 18): 0.16122550540925604,\n",
       " (11, 19): 0.2123976976214366,\n",
       " (11, 20): 0.2036532699906392,\n",
       " (12, 1): 0.17751173670117326,\n",
       " (12, 2): 0.2049455736824853,\n",
       " (12, 3): 0.194943257290983,\n",
       " (12, 4): 0.2838961340444303,\n",
       " (12, 5): 0.21666666666666667,\n",
       " (12, 6): 0.21849510977216466,\n",
       " (12, 7): 0.19166666666666668,\n",
       " (12, 8): 0.2034190510862431,\n",
       " (12, 9): 0.29745653826544605,\n",
       " (12, 10): 0.2727365870242556,\n",
       " (12, 11): 0.25877458475338283,\n",
       " (12, 13): 0.2776388541492947,\n",
       " (12, 14): 0.25210751884503774,\n",
       " (12, 15): 0.21957751641341997,\n",
       " (12, 16): 0.19166666666666668,\n",
       " (12, 17): 0.25620709690157345,\n",
       " (12, 18): 0.22953904252438354,\n",
       " (12, 19): 0.17954621161490197,\n",
       " (12, 20): 0.23773686547168293,\n",
       " (13, 1): 0.20343336780168375,\n",
       " (13, 2): 0.3174144950046523,\n",
       " (13, 3): 0.2747531298926986,\n",
       " (13, 4): 0.35504773582662247,\n",
       " (13, 5): 0.28514260696414045,\n",
       " (13, 6): 0.1816098419058007,\n",
       " (13, 7): 0.21010507881568247,\n",
       " (13, 8): 0.18316875326179907,\n",
       " (13, 9): 0.25374774349557044,\n",
       " (13, 10): 0.28279571432217604,\n",
       " (13, 11): 0.240780784325465,\n",
       " (13, 12): 0.2776388541492947,\n",
       " (13, 14): 0.2489790392594565,\n",
       " (13, 15): 0.19039573590429026,\n",
       " (13, 16): 0.23261633726021985,\n",
       " (13, 17): 0.2753537218400135,\n",
       " (13, 18): 0.2435971705849657,\n",
       " (13, 19): 0.15397375894859666,\n",
       " (13, 20): 0.22145197325905971,\n",
       " (14, 1): 0.2047307562133314,\n",
       " (14, 2): 0.22400716834408235,\n",
       " (14, 3): 0.16543055566182172,\n",
       " (14, 4): 0.2924461611417531,\n",
       " (14, 5): 0.2439750182371333,\n",
       " (14, 6): 0.1558214799132889,\n",
       " (14, 7): 0.27650502066875104,\n",
       " (14, 8): 0.21505972236036824,\n",
       " (14, 9): 0.25973124082465987,\n",
       " (14, 10): 0.15324574085701198,\n",
       " (14, 11): 0.15152288168283162,\n",
       " (14, 12): 0.25210751884503774,\n",
       " (14, 13): 0.2489790392594565,\n",
       " (14, 15): 0.1746031746031746,\n",
       " (14, 16): 0.20331251519761107,\n",
       " (14, 17): 0.23390139393964984,\n",
       " (14, 18): 0.24000768036865966,\n",
       " (14, 19): 0.18356293058464493,\n",
       " (14, 20): 0.2640084484055256,\n",
       " (15, 1): 0.157485197087178,\n",
       " (15, 2): 0.2720087044178143,\n",
       " (15, 3): 0.15715902787873062,\n",
       " (15, 4): 0.20779069344282455,\n",
       " (15, 5): 0.1301200097264711,\n",
       " (15, 6): 0.18042487147854505,\n",
       " (15, 7): 0.15451751155018442,\n",
       " (15, 8): 0.2316027779265504,\n",
       " (15, 9): 0.2138963159732493,\n",
       " (15, 10): 0.2016391327065947,\n",
       " (15, 11): 0.23570226039551587,\n",
       " (15, 12): 0.21957751641341997,\n",
       " (15, 13): 0.19039573590429026,\n",
       " (15, 14): 0.1746031746031746,\n",
       " (15, 16): 0.10572250790275776,\n",
       " (15, 17): 0.17744243678180333,\n",
       " (15, 18): 0.15200486423348444,\n",
       " (15, 19): 0.158531621868557,\n",
       " (15, 20): 0.1440046082211958,\n",
       " (16, 1): 0.19364916731037085,\n",
       " (16, 2): 0.17215428189328766,\n",
       " (16, 3): 0.2034190510862431,\n",
       " (16, 4): 0.2602381228740611,\n",
       " (16, 5): 0.25,\n",
       " (16, 6): 0.23530242590848502,\n",
       " (16, 7): 0.20833333333333334,\n",
       " (16, 8): 0.2034190510862431,\n",
       " (16, 9): 0.25831752007262415,\n",
       " (16, 10): 0.17355964628816264,\n",
       " (16, 11): 0.18976802881914742,\n",
       " (16, 12): 0.19166666666666668,\n",
       " (16, 13): 0.23261633726021985,\n",
       " (16, 14): 0.20331251519761107,\n",
       " (16, 15): 0.10572250790275776,\n",
       " (16, 17): 0.25620709690157345,\n",
       " (16, 18): 0.19674775073518588,\n",
       " (16, 19): 0.1453469332120635,\n",
       " (16, 20): 0.28692380315547944,\n",
       " (17, 1): 0.13603918492870198,\n",
       " (17, 2): 0.25204085018888195,\n",
       " (17, 3): 0.16812065978477164,\n",
       " (17, 4): 0.30502279233107893,\n",
       " (17, 5): 0.22314811665620912,\n",
       " (17, 6): 0.24170023847577032,\n",
       " (17, 7): 0.18182439134950373,\n",
       " (17, 8): 0.2185568577202031,\n",
       " (17, 9): 0.3105350470222685,\n",
       " (17, 10): 0.20491803278688525,\n",
       " (17, 11): 0.1882061254780176,\n",
       " (17, 12): 0.25620709690157345,\n",
       " (17, 13): 0.2753537218400135,\n",
       " (17, 14): 0.23390139393964984,\n",
       " (17, 15): 0.17744243678180333,\n",
       " (17, 16): 0.25620709690157345,\n",
       " (17, 18): 0.20325875015232414,\n",
       " (17, 19): 0.11023284373970225,\n",
       " (17, 20): 0.25204085018888195,\n",
       " (18, 1): 0.26987526987540483,\n",
       " (18, 2): 0.21774193548387097,\n",
       " (18, 3): 0.1667593364912675,\n",
       " (18, 4): 0.23273302423190206,\n",
       " (18, 5): 0.2213412195770841,\n",
       " (18, 6): 0.19014109462868295,\n",
       " (18, 7): 0.18035210484058706,\n",
       " (18, 8): 0.15842136966670414,\n",
       " (18, 9): 0.2156143862717941,\n",
       " (18, 10): 0.2113891001584171,\n",
       " (18, 11): 0.16122550540925604,\n",
       " (18, 12): 0.22953904252438354,\n",
       " (18, 13): 0.2435971705849657,\n",
       " (18, 14): 0.24000768036865966,\n",
       " (18, 15): 0.15200486423348444,\n",
       " (18, 16): 0.19674775073518588,\n",
       " (18, 17): 0.20325875015232414,\n",
       " (18, 19): 0.12616183317234167,\n",
       " (18, 20): 0.18548387096774194,\n",
       " (19, 1): 0.12417490847484786,\n",
       " (19, 2): 0.22709129971021502,\n",
       " (19, 3): 0.09565579045742019,\n",
       " (19, 4): 0.22654433493241716,\n",
       " (19, 5): 0.20519567041703082,\n",
       " (19, 6): 0.18106139638141988,\n",
       " (19, 7): 0.20519567041703082,\n",
       " (19, 8): 0.15652765711214212,\n",
       " (19, 9): 0.08031157077540445,\n",
       " (19, 10): 0.1695889903687727,\n",
       " (19, 11): 0.2123976976214366,\n",
       " (19, 12): 0.17954621161490197,\n",
       " (19, 13): 0.15397375894859666,\n",
       " (19, 14): 0.18356293058464493,\n",
       " (19, 15): 0.158531621868557,\n",
       " (19, 16): 0.1453469332120635,\n",
       " (19, 17): 0.11023284373970225,\n",
       " (19, 18): 0.12616183317234167,\n",
       " (19, 20): 0.22709129971021502,\n",
       " (20, 1): 0.16668766668775004,\n",
       " (20, 2): 0.22580645161290322,\n",
       " (20, 3): 0.1750973033158309,\n",
       " (20, 4): 0.27927962907828247,\n",
       " (20, 5): 0.2049455736824853,\n",
       " (20, 6): 0.2232091110858452,\n",
       " (20, 7): 0.15575863599868883,\n",
       " (20, 8): 0.19177323696495766,\n",
       " (20, 9): 0.2849190104305851,\n",
       " (20, 10): 0.17886770013404524,\n",
       " (20, 11): 0.2036532699906392,\n",
       " (20, 12): 0.23773686547168293,\n",
       " (20, 13): 0.22145197325905971,\n",
       " (20, 14): 0.2640084484055256,\n",
       " (20, 15): 0.1440046082211958,\n",
       " (20, 16): 0.28692380315547944,\n",
       " (20, 17): 0.25204085018888195,\n",
       " (20, 18): 0.18548387096774194,\n",
       " (20, 19): 0.22709129971021502}"
      ]
     },
     "execution_count": 29,
     "metadata": {},
     "output_type": "execute_result"
    }
   ],
   "source": [
    "all_pairs_sim(list_of_dicts, cosine_sparse, 20)"
   ]
  },
  {
   "cell_type": "markdown",
   "metadata": {},
   "source": [
    "Now I will find the worst case running times for both of these measures when computing all pairs of an increasing amount of documents. I will start at 2 documents and add 2 more documents at a time, which I will time for both similarity measures and then plot against each other."
   ]
  },
  {
   "cell_type": "code",
   "execution_count": 30,
   "metadata": {},
   "outputs": [
    {
     "name": "stdout",
     "output_type": "stream",
     "text": [
      "[5.5959224700927736e-05, 0.0003287684917449951, 0.000784334659576416, 0.0014399597644805908, 0.002484101295471191, 0.0035306332111358645, 0.00502006196975708, 0.0063303494453430175, 0.008019614934921265, 0.009818196296691895]\n"
     ]
    }
   ],
   "source": [
    "# Time to find the worst case running time for my all_pairs_sim function for the every similarity measure, first jaccard.\n",
    "    \n",
    "x_values_ap = []\n",
    "for x in range(2,21,2):\n",
    "    x_values_ap.append(x)\n",
    "\n",
    "y_values_ap_j = []\n",
    "for n in range(2,21,2):\n",
    "    (ans, mean,error) = timeit(all_pairs_sim, list_of_dicts, jaccard, n)\n",
    "    y_values_ap_j.append(mean)\n",
    "    \n",
    "print(y_values_ap_j)"
   ]
  },
  {
   "cell_type": "code",
   "execution_count": 31,
   "metadata": {},
   "outputs": [
    {
     "name": "stdout",
     "output_type": "stream",
     "text": [
      "[6.395792961120606e-05, 0.0003474209308624268, 0.0008714091777801513, 0.0016339049339294434, 0.002622049331665039, 0.0038413007259368898, 0.005240822553634643, 0.006900035619735718, 0.008843973159790039, 0.011083195686340332]\n"
     ]
    }
   ],
   "source": [
    "y_values_ap_cs = []\n",
    "for n in range(2,21,2):\n",
    "    (ans, mean,error) = timeit(all_pairs_sim, list_of_dicts, cosine_sparse, n)\n",
    "    y_values_ap_cs.append(mean)\n",
    "    \n",
    "print(y_values_ap_cs)"
   ]
  },
  {
   "cell_type": "code",
   "execution_count": 32,
   "metadata": {},
   "outputs": [
    {
     "data": {
      "image/png": "[encoded data removed]",
      "text/plain": [
       "<Figure size 432x288 with 1 Axes>"
      ]
     },
     "metadata": {
      "needs_background": "light"
     },
     "output_type": "display_data"
    }
   ],
   "source": [
    "fig2 = plt.figure()\n",
    "ax2 = fig2.add_subplot(111)\n",
    "ax2.scatter(x_values_ap, y_values_ap_j, c='b', marker=\"s\", label='Jaccard')\n",
    "ax2.scatter(x_values_ap,y_values_ap_cs, c='g', marker=\"8\", label='Cosine')\n",
    "plt.xlim(0,22)\n",
    "plt.ylim(0, 0.012)\n",
    "plt.xticks(range(2,21,2))\n",
    "plt.xlabel(\"Amount of Documents Used\")\n",
    "plt.ylabel(\"Average Time to Calculate all Pairs\")\n",
    "plt.title(\"Worst Case Running Time for caculating \\nSimilarity for all pairs\")\n",
    "plt.legend(loc='upper left');\n",
    "plt.show()"
   ]
  },
  {
   "cell_type": "markdown",
   "metadata": {},
   "source": [
    "It appears that the Jaccard similarity test is slightly faster when calculating for all pairs of documents. Now I will calculate the time complexities for both measures. "
   ]
  },
  {
   "cell_type": "code",
   "execution_count": 33,
   "metadata": {},
   "outputs": [
    {
     "data": {
      "image/png": "[encoded data removed]",
      "text/plain": [
       "<Figure size 432x288 with 1 Axes>"
      ]
     },
     "metadata": {
      "needs_background": "light"
     },
     "output_type": "display_data"
    },
    {
     "name": "stdout",
     "output_type": "stream",
     "text": [
      "Slope: S =  2.224098775650648\n",
      "Intercept =  -4.862580784291816\n",
      "Constant: C =  1.3722056895728126e-05\n"
     ]
    }
   ],
   "source": [
    "# Now to find the time complexities, first for the Jaccard similarity of all pairs.\n",
    "\n",
    "log_x_values_ap=[np.log10(x) for x in x_values_ap]\n",
    "log_y_values_ap_j=[np.log10(y) for y in y_values_ap_j]\n",
    "\n",
    "plt.scatter(log_x_values_ap,log_y_values_ap_j, c='b', marker=\"s\")\n",
    "plt.xlabel(\"Log of Amount of Documents used\")\n",
    "plt.ylabel(\"Log of Average time to Calculate all Pairs\")\n",
    "plt.title(\"Worst Case Running Time for caculating \\nJaccard Similarity for all pairs (Log)\")\n",
    "plt.show()\n",
    "\n",
    "# finding the slope, intercept, and constant for the cosine worst case\n",
    "\n",
    "slope_ap_j, intercept_ap_j = np.polyfit(log_x_values_ap,log_y_values_ap_j,1)\n",
    "print('Slope: S = ', slope_ap_j )\n",
    "print('Intercept = ', intercept_ap_j)\n",
    "constant_ap_j= 10**intercept_ap_j \n",
    "print('Constant: C = ', constant_ap_j)"
   ]
  },
  {
   "cell_type": "markdown",
   "metadata": {},
   "source": [
    "The slope and intercept of the log graph shows us that the time complexity for calculating all pairs for the Jaccard similarity is:\n",
    "\n",
    "$ y = Cx^S $. with C and S defined above. \n",
    "\n",
    "To calculate how long it would take to calculate the Jaccard similarity for 200,000 documents, we need to put $x=200,000$ into our equation."
   ]
  },
  {
   "cell_type": "code",
   "execution_count": 34,
   "metadata": {},
   "outputs": [
    {
     "name": "stdout",
     "output_type": "stream",
     "text": [
      "It will take 97.93091139096528 days to compute the Jaccard similarity of 200k documents of 200 words in each\n"
     ]
    }
   ],
   "source": [
    "yj_200k = constant_ap_j*(200000)**(slope_ap_j)\n",
    "yj_200k_days = ((yj_200k/60)/60)/24\n",
    "print('It will take', yj_200k_days, 'days to compute the Jaccard similarity of 200k documents of 200 words in each')"
   ]
  },
  {
   "cell_type": "code",
   "execution_count": 35,
   "metadata": {},
   "outputs": [
    {
     "data": {
      "image/png": "[encoded data removed]",
      "text/plain": [
       "<Figure size 432x288 with 1 Axes>"
      ]
     },
     "metadata": {
      "needs_background": "light"
     },
     "output_type": "display_data"
    },
    {
     "name": "stdout",
     "output_type": "stream",
     "text": [
      "Slope: S =  2.2146085984539705\n",
      "Intercept =  -4.814106212227524\n",
      "Constant: C =  1.534241718628791e-05\n"
     ]
    }
   ],
   "source": [
    "# Now to caluculate the time complexity for the Cosine similarity of all pairs.\n",
    "\n",
    "log_x_values_ap=[np.log10(x) for x in x_values_ap]\n",
    "log_y_values_ap_cs=[np.log10(y) for y in y_values_ap_cs]\n",
    "\n",
    "plt.scatter(log_x_values_ap,log_y_values_ap_j, c='g', marker=\"8\")\n",
    "plt.xlabel(\"Log of Amount of Documents used\")\n",
    "plt.ylabel(\"Log of Average time to Calculate all Pairs\")\n",
    "plt.title(\"Worst Case Running Time for caculating \\nCosine Similarity for all pairs (Log)\")\n",
    "plt.show()\n",
    "\n",
    "# finding the slope, intercept, and constant for the cosine worst case\n",
    "\n",
    "slope_ap_cs, intercept_ap_cs = np.polyfit(log_x_values_ap,log_y_values_ap_cs,1)\n",
    "print('Slope: S = ', slope_ap_cs )\n",
    "print('Intercept = ', intercept_ap_cs)\n",
    "constant_ap_cs= 10**intercept_ap_cs\n",
    "print('Constant: C = ', constant_ap_cs)"
   ]
  },
  {
   "cell_type": "markdown",
   "metadata": {},
   "source": [
    "The time complexity for calculating all pairs for the Cosine similarity is:\n",
    "\n",
    "$ y = Cx^S $. with C and S defined above. \n",
    "\n",
    "Again, to find the Cosine similarity for all pairs of 200,000 documents, we need to put $x=200,000$ into our equation."
   ]
  },
  {
   "cell_type": "code",
   "execution_count": 36,
   "metadata": {},
   "outputs": [
    {
     "name": "stdout",
     "output_type": "stream",
     "text": [
      "It will take 97.51841958560959 days to compute the Cosine similarity of 200k documents of 200 words in each\n"
     ]
    }
   ],
   "source": [
    "yc_200k = constant_ap_cs*(200000)**(slope_ap_cs)\n",
    "yc_200k_days = ((yc_200k/60)/60)/24\n",
    "print('It will take', yc_200k_days, 'days to compute the Cosine similarity of 200k documents of 200 words in each')"
   ]
  },
  {
   "cell_type": "markdown",
   "metadata": {},
   "source": [
    "## (5) Map-Reduce Computing Paradigm (incomplete)"
   ]
  },
  {
   "cell_type": "markdown",
   "metadata": {},
   "source": [
    "#### What is the Map-Reduce paradigm?"
   ]
  },
  {
   "cell_type": "markdown",
   "metadata": {},
   "source": [
    "The Map-Reduce computing paradigm was created to attempt to split up the work load of an algorithm to decrease the runing time. Map-Reduce has two main parts - map and reduce. The input data is split up into small 'chunks', which is given to the map which takes these chunks to return a key-value pair. The key-value pairs given by the seperate mapper functions are shuffled up and sorted. These are then passed onto the reduce processes, which take these key-value pairs and returns the new key-value pairs, which is the output. "
   ]
  },
  {
   "cell_type": "markdown",
   "metadata": {},
   "source": [
    "I have attempted to implement this into my all_pairs_sim function, but I was unable to do this, and have insted only managed this to calculate 1 pair."
   ]
  },
  {
   "cell_type": "code",
   "execution_count": 137,
   "metadata": {},
   "outputs": [],
   "source": [
    "from multiprocessing import Pool\n",
    "from collections import defaultdict\n",
    "import defs\n",
    "\n",
    "def map_reduce_parallel(inputs,mapper,reducer,mapprocesses=3,reduceprocesses=2):\n",
    "    \n",
    "    collector=defaultdict(list)  \n",
    "    mappool = Pool(processes=mapprocesses)\n",
    "    mapresults=mappool.map(mapper,inputs)\n",
    "    mappool.close()\n",
    "    #print(len(mapresults[0]), mapresults, '\\n')\n",
    "    for mapresult in mapresults:\n",
    "        for (key, value) in mapresult:     \n",
    "            collector[key].append(value)     \n",
    "    #print(collector, '\\n')\n",
    "    outputs=[]\n",
    "    reducepool = Pool(processes=reduceprocesses)\n",
    "    reduceresults=reducepool.map(reducer,collector.items())\n",
    "    reducepool.close()\n",
    "    #print(reduceresults, '\\n')\n",
    "    for reduceresult in reduceresults:\n",
    "        outputs+=reduceresult\n",
    "    #print(outputs)\n",
    "    intersection = sum(outputs)\n",
    "    jaccard = intersection/(200-intersection)\n",
    "   \n",
    "    return jaccard \n",
    "\n",
    "# defs.py needed to access the mapper and reducer functions."
   ]
  },
  {
   "cell_type": "code",
   "execution_count": 138,
   "metadata": {
    "scrolled": true
   },
   "outputs": [
    {
     "data": {
      "text/plain": [
       "0.10497237569060773"
      ]
     },
     "execution_count": 138,
     "metadata": {},
     "output_type": "execute_result"
    }
   ],
   "source": [
    "map_reduce_parallel(list_of_dicts[0:2], defs.jaccard_mapper_parallel, defs.jaccard_reducer_parallel)"
   ]
  },
  {
   "cell_type": "code",
   "execution_count": null,
   "metadata": {},
   "outputs": [],
   "source": []
  }
 ],
 "metadata": {
  "kernelspec": {
   "display_name": "Python 3",
   "language": "python",
   "name": "python3"
  },
  "language_info": {
   "codemirror_mode": {
    "name": "ipython",
    "version": 3
   },
   "file_extension": ".py",
   "mimetype": "text/x-python",
   "name": "python",
   "nbconvert_exporter": "python",
   "pygments_lexer": "ipython3",
   "version": "3.7.4"
  }
 },
 "nbformat": 4,
 "nbformat_minor": 2
}
